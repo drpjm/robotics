{
 "cells": [
  {
   "cell_type": "markdown",
   "metadata": {
    "colab_type": "text",
    "id": "view-in-github",
    "tags": [
     "no-tex"
    ]
   },
   "source": [
    "<a href=\"https://colab.research.google.com/github/gtbook/robotics/blob/main/S56_diffdrive_learning.ipynb\" target=\"_parent\"><img src=\"https://colab.research.google.com/assets/colab-badge.svg\" alt=\"Open In Colab\"/></a>"
   ]
  },
  {
   "cell_type": "code",
   "execution_count": 1,
   "metadata": {
    "id": "JoW4C_OkOMhe",
    "tags": [
     "remove-cell"
    ]
   },
   "outputs": [
    {
     "name": "stdout",
     "output_type": "stream",
     "text": [
      "Note: you may need to restart the kernel to use updated packages.\n"
     ]
    }
   ],
   "source": [
    "%pip install -q -U gtbook\n"
   ]
  },
  {
   "cell_type": "code",
   "execution_count": 2,
   "metadata": {
    "id": "10-snNDwOSuC",
    "tags": [
     "remove-cell"
    ]
   },
   "outputs": [],
   "source": [
    "import plotly\n",
    "import pandas as pd\n",
    "import plotly.express as px\n",
    "\n",
    "import torch\n",
    "import torch.nn as nn\n",
    "import torch.optim as optim\n",
    "from torch.utils.data import DataLoader, TensorDataset"
   ]
  },
  {
   "attachments": {},
   "cell_type": "markdown",
   "metadata": {
    "id": "nAvx4-UCNzt2"
   },
   "source": [
    "# Deep Learning\n",
    "\n",
    "> Stochastic gradient descent and the like.\n",
    "\n",
    "<img src=\"Figures5/S56-Two-wheeled_Toy_Robot-09.jpg\" alt=\"Splash image with steampunk differential drive robot\" width=\"40%\" align=center style=\"vertical-align:middle;margin:10px 0px\">"
   ]
  },
  {
   "cell_type": "markdown",
   "metadata": {},
   "source": [
    "## Supervised Learning Setup\n",
    "\n",
    "> From data, learn concept.\n",
    "\n",
    "In the **supervised learning** setup, we have a large number of examples of inputs $x$ and corresponding labels $y$.\n",
    "We will often refer to the *training dataset* as $D$, consisting of pairs $(x,y)$. The nature of the output labels $y$ determine the type of learning problem we are dealing with:\n",
    "\n",
    "1. **Classification**; If the labels $y$ are *discrete*, we talk about a supervised *classification* problem. The prototypical example is classifying images as portraying either a cat or a dog: here the images are the inputs $x$, and the output label $y \\in \\{\\text{cat},\\text{dog}\\}$.\n",
    "\n",
    "2. **Regression** If the labels $y$ are *continuous*, this is called a supervised *regression* problem. For example, predicting the blue-book value of a second-hand car based on its make, model, year, and miles driven."
   ]
  },
  {
   "cell_type": "markdown",
   "metadata": {},
   "source": [
    "Whether we are talking about classification or regression, the supervised leaning process normally follows these steps:\n",
    "\n",
    "1. Define a model $f$ and its parameters $\\theta$ that allow you to output a prediction $\\hat{y}$ from the input features $x$:\n",
    "\n",
    "$$\n",
    "\\hat{y} = f(x; \\theta)\n",
    "$$\n",
    "\n",
    "2. Divide your data into *training*, *validation*, and *test* datasets. Typically, the largest portion of the data is used for training, while setting aside smaller validation and test portions of the data.\n",
    "\n",
    "2. Train the model using the training data $D_{\\text{train}}$, while monitoring for \"overfitting\" on the validation dataset $D_{\\text{val}}$. We train by adjusting the parameters $\\theta$ to minimize a training loss, both of which we look at in more detail below.\n",
    "\n",
    "3. After we decided to stop the training process, we typically test the model on the held-out dataset $D_{\\text{test}}$ that the training process has never seen, to get an independent assessment on how well the model will generalize towards new, unseen data.\n",
    "\n",
    "Supervised learning is the staple of machine learning and its use has exploded in recent years to encompass almost any human economic activity, ranging from finance to healthcare and everything in between. Most recently the success of large language models is also based on supervised learning, where a \"transformer\"-based model is trained to predict the next word (or token) in a sequence, from very large textual datasets, a paradigm which is rapidly finding its way to different modalities like vision as well."
   ]
  },
  {
   "cell_type": "markdown",
   "metadata": {},
   "source": [
    "## Example: Interpolation in 1D\n",
    "\n",
    "As an example, e formulate a simple regression problem that asks for interpolating functions in 1D. We will create a *differentiable* interpolation scheme that can be trained using samples from any function we want to interpolate, even functions with multi-dimensional outputs.\n",
    "\n",
    "The `LineGrid` class below is designed for this purpose, and divides up the 1D interval over which the function is defined in a number of *cells*, arranged in a 1D grid. It is initialized with two parameters:\n",
    "\n",
    "- `n`: the number of cells in a 1D grid\n",
    "- `d`: the dimensionality of the function we want to interpolate\n",
    "\n",
    "In our case, we will focus on interpolating the grid values defined at the cell boundaries. The `forward` method of the `LineGrid` module performs the interpolation for any value inside the grid."
   ]
  },
  {
   "cell_type": "code",
   "execution_count": 3,
   "metadata": {},
   "outputs": [],
   "source": [
    "def interpolate(v0, v1, alpha):\n",
    "    \"\"\"Interpolate between v0 and v1 using alpha, using unsqueeze to properly handle batches.\"\"\"\n",
    "    return v0 * (1 - alpha.unsqueeze(-1)) + v1 * alpha.unsqueeze(-1)\n",
    "\n",
    "class LineGrid(nn.Module):\n",
    "    \"\"\"A 1D grid with learnable values at the boundaries on n cells.\"\"\"\n",
    "\n",
    "    def __init__(self, n, d=1):\n",
    "        super().__init__()  # Calling the superclass's __init__ method\n",
    "        self.grid = nn.Parameter(nn.init.normal_(torch.empty(n + 1, d)))\n",
    "\n",
    "    def forward(self, x):\n",
    "        X = torch.floor(x).long()\n",
    "        a = x - X  # blending weights (same size as x)\n",
    "        return interpolate(self.grid[X], self.grid[X + 1], a)"
   ]
  },
  {
   "cell_type": "markdown",
   "metadata": {},
   "source": [
    "Here is an example of how to initialize a `LineGrid` instance, and subsequently call its `forward` method:"
   ]
  },
  {
   "cell_type": "code",
   "execution_count": 4,
   "metadata": {},
   "outputs": [
    {
     "name": "stdout",
     "output_type": "stream",
     "text": [
      "Interpolated Output: tensor([[ 0.6624,  0.4073],\n",
      "        [ 0.8468, -0.4173],\n",
      "        [ 1.0135, -0.4995]], grad_fn=<AddBackward0>)\n"
     ]
    }
   ],
   "source": [
    "grid_module = LineGrid(n=5, d=2)\n",
    "\n",
    "x = torch.Tensor([1.5, 2.7, 3.6])\n",
    "print(\"Interpolated Output:\", grid_module(x))"
   ]
  },
  {
   "cell_type": "markdown",
   "metadata": {},
   "source": [
    "In the example above, the shape of the output is $3\\times 2$ because we asked to interpolate a 2D function (`d` is 2) at three different locations (as `x.shape` is (3,)). In addition, the interpolate function is written to accommodate and shape for the tensor x to allow evaluating over arbitrary batches of examples. If we input a tensor with shape `(b, m)`, the output will have shape `(b, m, d)`, and so forth."
   ]
  },
  {
   "cell_type": "markdown",
   "metadata": {},
   "source": [
    "The output looks rather random, however, because the grid was initialized with random values in the constructor. Below we discuss often-used loss functions and the stochastic gradient descent method to train models, and show how to train the simple regression example above to drive all these concepts home. "
   ]
  },
  {
   "cell_type": "markdown",
   "metadata": {},
   "source": [
    "### Exercise\n",
    "\n",
    "For the example above with $n=5$ and $d=2$, give a single $(x,y)$ pair. What is the model $f$? What are the model parameters $\\theta$? How many parameters are there?"
   ]
  },
  {
   "cell_type": "markdown",
   "metadata": {},
   "source": [
    "## Loss Functions\n",
    "\n",
    "> A loss function for every occasion.\n",
    "\n",
    "Different tasks require different loss functions, and a lot of creativity and research goes into crafting loss functions for complex tasks. For \"vanilla\" regression tasks, we typically use a **mean squared error** loss function as we already encountered before:\n",
    "\n",
    "$$L_{\\text{MSE}}(\\theta; D) \\doteq \\frac{1}{|D|} \\sum_{(x,y)\\in D}|f(x;\\theta)-y|^2$$\n",
    "\n",
    "Above $f(x;\\theta)$ is the continuous prediction function implemented by, say, a neural network, where $\\theta$ represents the weights in all layers. Note that the formula above can be easily generalized to vector-valued labels $y$. In fact, our 1D interpolation example above yielded a 2-dimensional output, so let us illustrate the MSE loss in that case: "
   ]
  },
  {
   "cell_type": "code",
   "execution_count": 5,
   "metadata": {},
   "outputs": [
    {
     "ename": "NameError",
     "evalue": "name 'label' is not defined",
     "output_type": "error",
     "traceback": [
      "\u001b[0;31m---------------------------------------------------------------------------\u001b[0m",
      "\u001b[0;31mNameError\u001b[0m                                 Traceback (most recent call last)",
      "\u001b[1;32m/Users/dellaert/git/robotics/S56_diffdrive_learning.ipynb Cell 15\u001b[0m line \u001b[0;36m1\n\u001b[0;32m----> <a href='vscode-notebook-cell:/Users/dellaert/git/robotics/S56_diffdrive_learning.ipynb#X45sZmlsZQ%3D%3D?line=0'>1</a>\u001b[0m \u001b[39mprint\u001b[39m(\u001b[39m\"\u001b[39m\u001b[39mOur MSE Loss:\u001b[39m\u001b[39m\"\u001b[39m, ((grid_module(x) \u001b[39m-\u001b[39m label)\u001b[39m*\u001b[39m\u001b[39m*\u001b[39m\u001b[39m2\u001b[39m)\u001b[39m.\u001b[39mmean()\u001b[39m.\u001b[39mitem())\n",
      "\u001b[0;31mNameError\u001b[0m: name 'label' is not defined"
     ]
    }
   ],
   "source": [
    "print(\"Our MSE Loss:\", ((grid_module(x) - label)**2).mean().item())"
   ]
  },
  {
   "cell_type": "markdown",
   "metadata": {},
   "source": [
    "We used the vectorized versions of subtraction and power above, and then used the `mean` method of tensors. As you can see, the MSE loss in this case is 14.8715. Even though in this case the calculation is simple, many other loss functions exists and might not be that straightforward to implement. Luckily, PyTorch has many loss functions built-in:"
   ]
  },
  {
   "cell_type": "code",
   "execution_count": null,
   "metadata": {},
   "outputs": [
    {
     "name": "stdout",
     "output_type": "stream",
     "text": [
      "Pytorch MSE Loss: 14.871464729309082\n"
     ]
    }
   ],
   "source": [
    "mse = nn.MSELoss() # Instantiate the loss function\n",
    "mse_loss = mse(grid_module(x), label) # Compute the loss\n",
    "print(\"Pytorch MSE Loss:\", mse_loss.item())"
   ]
  },
  {
   "cell_type": "markdown",
   "metadata": {},
   "source": [
    "For classification, the **cross entropy** loss function is very popular: it measures the average disagreement of the predicted labels with the ground truth labels:\n",
    "\n",
    "$$L_{\\text{CE}}(\\theta; D) \\doteq \\sum_c \\sum_{(x,y=c)\\in D}\\log\\frac{1}{p_c(x;\\theta)}$$\n",
    "\n",
    "This formula seems perhaps unintuitive and rather complicated. However, it is actually quite intuitive once you understand a few concepts.\n",
    "In particular, in the multi-class classification problem we assume that the model outputs a probability $p_c(x;\\theta)$ for every class $c\\in[N]$, where $N$ is the number of classes. The quantity \n",
    "\n",
    "$$\\log\\frac{1}{p_c(x;\\theta)}$$\n",
    "\n",
    "is called the *surprise* that we should experience when seeing a label $y=c$. \n",
    "Indeed, for example, if we see class $3$ and the probability output by the network is $p_3(x;\\theta)=1$, we are not surprised at all, as $\\log\\frac{1}{1}=\\log 1 = 0$. \n",
    "However, if the probability is only $0.01$, our surprise is $\\log\\frac{1}{0.01}=\\log 100 = 2$.\n",
    "The lower the probability, the higher the surprise. Hence, the cross-entropy above measures the *average surprise* for seeing the labeled examples in the training data. After training, the model is the least surprised possible, hopefully, which is why it is an intuitive loss function to minimize.\n",
    "\n",
    "Note that training with cross-entropy does not guarantee that the outputs can be *truly* interpreted as probabilities: the recent field of \"model calibration\" has shown that especially neural networks can severely over-estimate those probability values in attempting to minimize the loss. If this interpretation is important for the application at hand, several techniques now exist to \"calibrate\" the models to be more interpretable that way."
   ]
  },
  {
   "cell_type": "markdown",
   "metadata": {},
   "source": [
    "## Gradient Descent\n",
    "\n",
    "> Calculate gradient, reduce loss.\n",
    "\n",
    "A neural network output, and in particular a CNN, depends on the large set of continuous weights $W$ that make up its convolutional layers, pooling layers, and fully connected layers. In other words, the neural network is the model $f(x;\\theta)$ in the learning setup discussed above, and the weights $W$ are its parameters $\\theta$.\n",
    "\n",
    "\n",
    "When we train a neural networks, we adjust its weights $W$ to perform better on the task at hand, be it classification or regression. To measure whether the model performs \"better\", we can use one of the loss functions defined above. To adjust the weights, we could calculate the gradient of the loss function with respect to each of the weights, and adjust the weights accordingly. That procedure is called **gradient descent**."
   ]
  },
  {
   "cell_type": "markdown",
   "metadata": {},
   "source": [
    "Below we illustrate gradient descent with the 1D interpolation model we created above. As an example, maybe we can learn a sine and cosine function at the same time? Let us create some training data by creating 500 noisy samples of these two functions. To integrate smoothly with the pytorch library we will use, we create a `TensorDataset` below."
   ]
  },
  {
   "cell_type": "code",
   "execution_count": null,
   "metadata": {},
   "outputs": [],
   "source": [
    "m = 250  # number of samples to train our model\n",
    "n = 20  # Grid size of 20, allowing for x values between 0 and 20\n",
    "x_samples = torch.rand((m, )) * n\n",
    "noisy_sin = torch.sin(x_samples * 2 * torch.pi / n) + 0.1 * torch.randn((m, ))\n",
    "noisy_cos = torch.cos(x_samples * 2 * torch.pi / n) + 0.1 * torch.randn((m, ))\n",
    "y_samples = torch.stack([noisy_sin, noisy_cos], dim=1)\n",
    "dataset = TensorDataset(x_samples, y_samples)"
   ]
  },
  {
   "cell_type": "markdown",
   "metadata": {},
   "source": [
    "A `TensorDataset` is a PyTorch class that wraps a pair of tensors, and its `__getitem__` method retrieves a training sample by indexing the tensors along the first dimension. For example, we can retrieve the training sample with index 12, or even slice to get the 5 training samples with indices 10..14:"
   ]
  },
  {
   "cell_type": "code",
   "execution_count": null,
   "metadata": {},
   "outputs": [
    {
     "name": "stdout",
     "output_type": "stream",
     "text": [
      "dataset[12]: (tensor(19.9494), tensor([-0.0011,  1.0668]))\n",
      "dataset[10:15]: (tensor([19.0668,  7.8134, 19.9494,  4.0226,  5.4225]), tensor([[-0.3549,  0.8667],\n",
      "        [ 0.5259, -0.8205],\n",
      "        [-0.0011,  1.0668],\n",
      "        [ 0.9074,  0.2921],\n",
      "        [ 0.7176, -0.0395]]))\n"
     ]
    }
   ],
   "source": [
    "print(\"dataset[12]:\", dataset[12])\n",
    "print(\"dataset[10:15]:\", dataset[10:15])"
   ]
  },
  {
   "cell_type": "markdown",
   "metadata": {},
   "source": [
    "We can then use the PyTorch training code below, which is a standard way of training any differentiable function, including our LineGrid class. That is  because all the operations inside the LineGrid class are differentiable, so gradient descent will just work.\n",
    "\n",
    "Inside the training loop below, you'll find the typical sequence of operations: zeroing gradients, performing a forward pass to get predictions, computing the loss, and doing a backward pass to update the model's parameters. Try to understand the code, as this same training loop is at the core of most deep learning architectures. Now, let's take a closer look at the code itself, which is extensively documented for clarity:"
   ]
  },
  {
   "cell_type": "code",
   "execution_count": null,
   "metadata": {},
   "outputs": [],
   "source": [
    "def train_gd(model, dataset, loss_fn, callback=None, learning_rate=0.5, num_iterations=301):\n",
    "    # Initialize optimizer\n",
    "    optimizer = optim.SGD(model.parameters(), lr=learning_rate)\n",
    "    \n",
    "    # Extract data from dataset\n",
    "    x_samples, y_samples = dataset[:]\n",
    "\n",
    "    # Loop over the dataset multiple times (each loop is an iteration)\n",
    "    for iteration in range(num_iterations):\n",
    "        # Zero the parameter gradients\n",
    "        optimizer.zero_grad()\n",
    "\n",
    "        # Forward pass: Compute predicted y by passing x_samples through the model\n",
    "        output = model(x_samples)\n",
    "\n",
    "        # Compute loss\n",
    "        loss = loss_fn(output, y_samples)\n",
    "\n",
    "        # Backward pass and update\n",
    "        loss.backward()\n",
    "        optimizer.step()\n",
    "\n",
    "        # Report if callback is given\n",
    "        if callback is not None:\n",
    "            callback(iteration, model)"
   ]
  },
  {
   "cell_type": "markdown",
   "metadata": {},
   "source": [
    "To use the code, we initialize the model, specify the loss function, and create a callback function that allows us to monitor the progress made by the optimizer. After that, we simply call `train_gd`:"
   ]
  },
  {
   "cell_type": "code",
   "execution_count": null,
   "metadata": {},
   "outputs": [
    {
     "data": {
      "application/vnd.plotly.v1+json": {
       "config": {
        "plotlyServerURL": "https://plot.ly"
       },
       "data": [
        {
         "hovertemplate": "Iteration=%{x}<br>Loss=%{y}<extra></extra>",
         "legendgroup": "",
         "line": {
          "color": "#636efa",
          "dash": "solid"
         },
         "marker": {
          "symbol": "circle"
         },
         "mode": "lines",
         "name": "",
         "orientation": "v",
         "showlegend": false,
         "type": "scatter",
         "x": [
          0,
          1,
          2,
          3,
          4,
          5,
          6,
          7,
          8,
          9,
          10,
          11,
          12,
          13,
          14,
          15,
          16,
          17,
          18,
          19,
          20,
          21,
          22,
          23,
          24,
          25,
          26,
          27,
          28,
          29,
          30,
          31,
          32,
          33,
          34,
          35,
          36,
          37,
          38,
          39,
          40,
          41,
          42,
          43,
          44,
          45,
          46,
          47,
          48,
          49,
          50,
          51,
          52,
          53,
          54,
          55,
          56,
          57,
          58,
          59,
          60,
          61,
          62,
          63,
          64,
          65,
          66,
          67,
          68,
          69,
          70,
          71,
          72,
          73,
          74,
          75,
          76,
          77,
          78,
          79,
          80,
          81,
          82,
          83,
          84,
          85,
          86,
          87,
          88,
          89,
          90,
          91,
          92,
          93,
          94,
          95,
          96,
          97,
          98,
          99,
          100,
          101,
          102,
          103,
          104,
          105,
          106,
          107,
          108,
          109,
          110,
          111,
          112,
          113,
          114,
          115,
          116,
          117,
          118,
          119,
          120,
          121,
          122,
          123,
          124,
          125,
          126,
          127,
          128,
          129,
          130,
          131,
          132,
          133,
          134,
          135,
          136,
          137,
          138,
          139,
          140,
          141,
          142,
          143,
          144,
          145,
          146,
          147,
          148,
          149,
          150,
          151,
          152,
          153,
          154,
          155,
          156,
          157,
          158,
          159,
          160,
          161,
          162,
          163,
          164,
          165,
          166,
          167,
          168,
          169,
          170,
          171,
          172,
          173,
          174,
          175,
          176,
          177,
          178,
          179,
          180,
          181,
          182,
          183,
          184,
          185,
          186,
          187,
          188,
          189,
          190,
          191,
          192,
          193,
          194,
          195,
          196,
          197,
          198,
          199,
          200,
          201,
          202,
          203,
          204,
          205,
          206,
          207,
          208,
          209,
          210,
          211,
          212,
          213,
          214,
          215,
          216,
          217,
          218,
          219,
          220,
          221,
          222,
          223,
          224,
          225,
          226,
          227,
          228,
          229,
          230,
          231,
          232,
          233,
          234,
          235,
          236,
          237,
          238,
          239,
          240,
          241,
          242,
          243,
          244,
          245,
          246,
          247,
          248,
          249,
          250,
          251,
          252,
          253,
          254,
          255,
          256,
          257,
          258,
          259,
          260,
          261,
          262,
          263,
          264,
          265,
          266,
          267,
          268,
          269,
          270,
          271,
          272,
          273,
          274,
          275,
          276,
          277,
          278,
          279,
          280,
          281,
          282,
          283,
          284,
          285,
          286,
          287,
          288,
          289,
          290,
          291,
          292,
          293,
          294,
          295,
          296,
          297,
          298,
          299,
          300
         ],
         "xaxis": "x",
         "y": [
          1.3714691400527954,
          1.3058290481567383,
          1.243705153465271,
          1.1848963499069214,
          1.1292129755020142,
          1.07647705078125,
          1.0265207290649414,
          0.97918701171875,
          0.9343275427818298,
          0.8918027877807617,
          0.8514819145202637,
          0.8132414817810059,
          0.7769652009010315,
          0.7425439357757568,
          0.7098747491836548,
          0.6788608431816101,
          0.6494110226631165,
          0.6214393973350525,
          0.5948649048805237,
          0.5696115493774414,
          0.5456074476242065,
          0.5227848887443542,
          0.5010802149772644,
          0.48043322563171387,
          0.460787296295166,
          0.4420889616012573,
          0.4242878556251526,
          0.40733644366264343,
          0.39118990302085876,
          0.37580597400665283,
          0.3611446022987366,
          0.3471682369709015,
          0.3338412344455719,
          0.32113000750541687,
          0.30900296568870544,
          0.2974299192428589,
          0.286382794380188,
          0.2758346498012543,
          0.2657603621482849,
          0.25613605976104736,
          0.2469390332698822,
          0.23814797401428223,
          0.22974276542663574,
          0.22170421481132507,
          0.21401427686214447,
          0.2066558599472046,
          0.19961275160312653,
          0.1928696483373642,
          0.1864120215177536,
          0.180226132273674,
          0.17429900169372559,
          0.16861817240715027,
          0.16317209601402283,
          0.15794961154460907,
          0.15294024348258972,
          0.1481340229511261,
          0.1435214877128601,
          0.13909368216991425,
          0.1348421275615692,
          0.13075870275497437,
          0.12683577835559845,
          0.12306609749794006,
          0.11944270133972168,
          0.11595907062292099,
          0.11260892450809479,
          0.1093863695859909,
          0.10628576576709747,
          0.1033017560839653,
          0.10042925179004669,
          0.09766338020563126,
          0.09499957412481308,
          0.09243342280387878,
          0.08996075391769409,
          0.08757760375738144,
          0.0852801650762558,
          0.08306483924388885,
          0.08092821389436722,
          0.07886699587106705,
          0.07687806338071823,
          0.07495845854282379,
          0.0731053277850151,
          0.07131598889827728,
          0.0695878267288208,
          0.06791841238737106,
          0.06630538403987885,
          0.06474649161100388,
          0.06323959678411484,
          0.06178266182541847,
          0.06037372723221779,
          0.05901091918349266,
          0.05769246071577072,
          0.056416645646095276,
          0.055181834846735,
          0.05398646742105484,
          0.0528290718793869,
          0.051708195358514786,
          0.05062248557806015,
          0.049570631235837936,
          0.04855137690901756,
          0.047563523054122925,
          0.046605926007032394,
          0.04567748308181763,
          0.04477712884545326,
          0.04390387237071991,
          0.043056730180978775,
          0.04223477840423584,
          0.04143712297081947,
          0.040662914514541626,
          0.03991132229566574,
          0.03918156772851944,
          0.03847289830446243,
          0.03778457269072533,
          0.0371159091591835,
          0.03646622970700264,
          0.0358349047601223,
          0.035221297293901443,
          0.03462482616305351,
          0.034044913947582245,
          0.03348102048039436,
          0.03293261304497719,
          0.03239918500185013,
          0.03188024461269379,
          0.03137532249093056,
          0.030883971601724625,
          0.03040575236082077,
          0.029940245673060417,
          0.02948705479502678,
          0.02904577925801277,
          0.028616053983569145,
          0.0281975157558918,
          0.02778981253504753,
          0.027392616495490074,
          0.027005599811673164,
          0.02662845328450203,
          0.026260873302817345,
          0.02590257301926613,
          0.025553271174430847,
          0.025212697684764862,
          0.02488059364259243,
          0.024556711316108704,
          0.024240799248218536,
          0.023932630196213722,
          0.023631975054740906,
          0.023338619619607925,
          0.02305234596133232,
          0.022772954776883125,
          0.02250024862587452,
          0.022234033793210983,
          0.021974127739667892,
          0.02172035537660122,
          0.021472541615366936,
          0.02123052254319191,
          0.02099413052201271,
          0.020763220265507698,
          0.02053762972354889,
          0.02031722106039524,
          0.020101847127079964,
          0.019891375675797462,
          0.019685672596096992,
          0.019484607502818108,
          0.019288061186671257,
          0.019095908850431442,
          0.01890803873538971,
          0.018724331632256508,
          0.018544679507613182,
          0.018368981778621674,
          0.018197130411863327,
          0.018029026687145233,
          0.017864571884274483,
          0.017703678458929062,
          0.01754624955356121,
          0.017392201349139214,
          0.017241444438695908,
          0.017093895003199577,
          0.016949476674199104,
          0.01680810935795307,
          0.01666971668601036,
          0.016534224152565002,
          0.016401560977101326,
          0.01627165824174881,
          0.01614444889128208,
          0.01601986587047577,
          0.015897847712039948,
          0.015778329223394394,
          0.015661252662539482,
          0.015546559356153011,
          0.015434188768267632,
          0.015324090607464314,
          0.01521621085703373,
          0.015110494568943977,
          0.015006892383098602,
          0.014905354008078575,
          0.014805830083787441,
          0.014708276838064194,
          0.014612649567425251,
          0.014518899843096733,
          0.014426988549530506,
          0.014336873777210712,
          0.014248508960008621,
          0.014161862432956696,
          0.014076889492571354,
          0.013993553817272186,
          0.013911822810769081,
          0.013831655494868755,
          0.013753018341958523,
          0.013675880618393421,
          0.01360020600259304,
          0.013525962829589844,
          0.01345311850309372,
          0.013381647877395153,
          0.013311515562236309,
          0.013242693617939949,
          0.013175156898796558,
          0.01310887560248375,
          0.013043821789324284,
          0.012979969382286072,
          0.0129172932356596,
          0.012855769135057926,
          0.012795374728739262,
          0.012736081145703793,
          0.012677869759500027,
          0.012620717287063599,
          0.012564598582684994,
          0.012509495951235294,
          0.01245538517832756,
          0.012402246706187725,
          0.01235006470233202,
          0.01229881402105093,
          0.012248477898538113,
          0.012199037708342075,
          0.012150473892688751,
          0.012102770619094372,
          0.012055909261107445,
          0.012009874917566776,
          0.01196464616805315,
          0.01192021369934082,
          0.011876557022333145,
          0.01183366123586893,
          0.011791512370109558,
          0.011750095523893833,
          0.011709396727383137,
          0.011669398285448551,
          0.011630091816186905,
          0.01159145962446928,
          0.011553491465747356,
          0.011516174301505089,
          0.011479492299258709,
          0.011443437077105045,
          0.011407993733882904,
          0.011373152956366539,
          0.011338901706039906,
          0.011305227875709534,
          0.011272122152149677,
          0.011239574290812016,
          0.011207572184503078,
          0.011176105588674545,
          0.011145164258778095,
          0.011114740744233131,
          0.011084823869168758,
          0.011055401526391506,
          0.011026468127965927,
          0.010998012498021126,
          0.01097002811729908,
          0.01094250287860632,
          0.010915431194007397,
          0.010888803750276566,
          0.010862612165510654,
          0.010836847126483917,
          0.01081150397658348,
          0.010786573402583599,
          0.01076204888522625,
          0.010737920179963112,
          0.010714180767536163,
          0.01069082971662283,
          0.010667851194739342,
          0.010645242407917976,
          0.010622999630868435,
          0.010601113550364971,
          0.010579575784504414,
          0.01055838167667389,
          0.0105375275015831,
          0.010517003014683723,
          0.010496807284653187,
          0.010476930998265743,
          0.010457368567585945,
          0.010438117198646069,
          0.010419168509542942,
          0.010400519706308842,
          0.010382162407040596,
          0.010364092886447906,
          0.010346307419240475,
          0.010328798554837704,
          0.010311566293239594,
          0.010294601321220398,
          0.010277899913489819,
          0.010261456482112408,
          0.01024527195841074,
          0.010229336097836494,
          0.010213646106421947,
          0.01019820012152195,
          0.010182990692555904
         ],
         "yaxis": "y"
        }
       ],
       "layout": {
        "legend": {
         "tracegroupgap": 0
        },
        "margin": {
         "t": 60
        },
        "template": {
         "data": {
          "bar": [
           {
            "error_x": {
             "color": "#2a3f5f"
            },
            "error_y": {
             "color": "#2a3f5f"
            },
            "marker": {
             "line": {
              "color": "#E5ECF6",
              "width": 0.5
             },
             "pattern": {
              "fillmode": "overlay",
              "size": 10,
              "solidity": 0.2
             }
            },
            "type": "bar"
           }
          ],
          "barpolar": [
           {
            "marker": {
             "line": {
              "color": "#E5ECF6",
              "width": 0.5
             },
             "pattern": {
              "fillmode": "overlay",
              "size": 10,
              "solidity": 0.2
             }
            },
            "type": "barpolar"
           }
          ],
          "carpet": [
           {
            "aaxis": {
             "endlinecolor": "#2a3f5f",
             "gridcolor": "white",
             "linecolor": "white",
             "minorgridcolor": "white",
             "startlinecolor": "#2a3f5f"
            },
            "baxis": {
             "endlinecolor": "#2a3f5f",
             "gridcolor": "white",
             "linecolor": "white",
             "minorgridcolor": "white",
             "startlinecolor": "#2a3f5f"
            },
            "type": "carpet"
           }
          ],
          "choropleth": [
           {
            "colorbar": {
             "outlinewidth": 0,
             "ticks": ""
            },
            "type": "choropleth"
           }
          ],
          "contour": [
           {
            "colorbar": {
             "outlinewidth": 0,
             "ticks": ""
            },
            "colorscale": [
             [
              0,
              "#0d0887"
             ],
             [
              0.1111111111111111,
              "#46039f"
             ],
             [
              0.2222222222222222,
              "#7201a8"
             ],
             [
              0.3333333333333333,
              "#9c179e"
             ],
             [
              0.4444444444444444,
              "#bd3786"
             ],
             [
              0.5555555555555556,
              "#d8576b"
             ],
             [
              0.6666666666666666,
              "#ed7953"
             ],
             [
              0.7777777777777778,
              "#fb9f3a"
             ],
             [
              0.8888888888888888,
              "#fdca26"
             ],
             [
              1,
              "#f0f921"
             ]
            ],
            "type": "contour"
           }
          ],
          "contourcarpet": [
           {
            "colorbar": {
             "outlinewidth": 0,
             "ticks": ""
            },
            "type": "contourcarpet"
           }
          ],
          "heatmap": [
           {
            "colorbar": {
             "outlinewidth": 0,
             "ticks": ""
            },
            "colorscale": [
             [
              0,
              "#0d0887"
             ],
             [
              0.1111111111111111,
              "#46039f"
             ],
             [
              0.2222222222222222,
              "#7201a8"
             ],
             [
              0.3333333333333333,
              "#9c179e"
             ],
             [
              0.4444444444444444,
              "#bd3786"
             ],
             [
              0.5555555555555556,
              "#d8576b"
             ],
             [
              0.6666666666666666,
              "#ed7953"
             ],
             [
              0.7777777777777778,
              "#fb9f3a"
             ],
             [
              0.8888888888888888,
              "#fdca26"
             ],
             [
              1,
              "#f0f921"
             ]
            ],
            "type": "heatmap"
           }
          ],
          "heatmapgl": [
           {
            "colorbar": {
             "outlinewidth": 0,
             "ticks": ""
            },
            "colorscale": [
             [
              0,
              "#0d0887"
             ],
             [
              0.1111111111111111,
              "#46039f"
             ],
             [
              0.2222222222222222,
              "#7201a8"
             ],
             [
              0.3333333333333333,
              "#9c179e"
             ],
             [
              0.4444444444444444,
              "#bd3786"
             ],
             [
              0.5555555555555556,
              "#d8576b"
             ],
             [
              0.6666666666666666,
              "#ed7953"
             ],
             [
              0.7777777777777778,
              "#fb9f3a"
             ],
             [
              0.8888888888888888,
              "#fdca26"
             ],
             [
              1,
              "#f0f921"
             ]
            ],
            "type": "heatmapgl"
           }
          ],
          "histogram": [
           {
            "marker": {
             "pattern": {
              "fillmode": "overlay",
              "size": 10,
              "solidity": 0.2
             }
            },
            "type": "histogram"
           }
          ],
          "histogram2d": [
           {
            "colorbar": {
             "outlinewidth": 0,
             "ticks": ""
            },
            "colorscale": [
             [
              0,
              "#0d0887"
             ],
             [
              0.1111111111111111,
              "#46039f"
             ],
             [
              0.2222222222222222,
              "#7201a8"
             ],
             [
              0.3333333333333333,
              "#9c179e"
             ],
             [
              0.4444444444444444,
              "#bd3786"
             ],
             [
              0.5555555555555556,
              "#d8576b"
             ],
             [
              0.6666666666666666,
              "#ed7953"
             ],
             [
              0.7777777777777778,
              "#fb9f3a"
             ],
             [
              0.8888888888888888,
              "#fdca26"
             ],
             [
              1,
              "#f0f921"
             ]
            ],
            "type": "histogram2d"
           }
          ],
          "histogram2dcontour": [
           {
            "colorbar": {
             "outlinewidth": 0,
             "ticks": ""
            },
            "colorscale": [
             [
              0,
              "#0d0887"
             ],
             [
              0.1111111111111111,
              "#46039f"
             ],
             [
              0.2222222222222222,
              "#7201a8"
             ],
             [
              0.3333333333333333,
              "#9c179e"
             ],
             [
              0.4444444444444444,
              "#bd3786"
             ],
             [
              0.5555555555555556,
              "#d8576b"
             ],
             [
              0.6666666666666666,
              "#ed7953"
             ],
             [
              0.7777777777777778,
              "#fb9f3a"
             ],
             [
              0.8888888888888888,
              "#fdca26"
             ],
             [
              1,
              "#f0f921"
             ]
            ],
            "type": "histogram2dcontour"
           }
          ],
          "mesh3d": [
           {
            "colorbar": {
             "outlinewidth": 0,
             "ticks": ""
            },
            "type": "mesh3d"
           }
          ],
          "parcoords": [
           {
            "line": {
             "colorbar": {
              "outlinewidth": 0,
              "ticks": ""
             }
            },
            "type": "parcoords"
           }
          ],
          "pie": [
           {
            "automargin": true,
            "type": "pie"
           }
          ],
          "scatter": [
           {
            "fillpattern": {
             "fillmode": "overlay",
             "size": 10,
             "solidity": 0.2
            },
            "type": "scatter"
           }
          ],
          "scatter3d": [
           {
            "line": {
             "colorbar": {
              "outlinewidth": 0,
              "ticks": ""
             }
            },
            "marker": {
             "colorbar": {
              "outlinewidth": 0,
              "ticks": ""
             }
            },
            "type": "scatter3d"
           }
          ],
          "scattercarpet": [
           {
            "marker": {
             "colorbar": {
              "outlinewidth": 0,
              "ticks": ""
             }
            },
            "type": "scattercarpet"
           }
          ],
          "scattergeo": [
           {
            "marker": {
             "colorbar": {
              "outlinewidth": 0,
              "ticks": ""
             }
            },
            "type": "scattergeo"
           }
          ],
          "scattergl": [
           {
            "marker": {
             "colorbar": {
              "outlinewidth": 0,
              "ticks": ""
             }
            },
            "type": "scattergl"
           }
          ],
          "scattermapbox": [
           {
            "marker": {
             "colorbar": {
              "outlinewidth": 0,
              "ticks": ""
             }
            },
            "type": "scattermapbox"
           }
          ],
          "scatterpolar": [
           {
            "marker": {
             "colorbar": {
              "outlinewidth": 0,
              "ticks": ""
             }
            },
            "type": "scatterpolar"
           }
          ],
          "scatterpolargl": [
           {
            "marker": {
             "colorbar": {
              "outlinewidth": 0,
              "ticks": ""
             }
            },
            "type": "scatterpolargl"
           }
          ],
          "scatterternary": [
           {
            "marker": {
             "colorbar": {
              "outlinewidth": 0,
              "ticks": ""
             }
            },
            "type": "scatterternary"
           }
          ],
          "surface": [
           {
            "colorbar": {
             "outlinewidth": 0,
             "ticks": ""
            },
            "colorscale": [
             [
              0,
              "#0d0887"
             ],
             [
              0.1111111111111111,
              "#46039f"
             ],
             [
              0.2222222222222222,
              "#7201a8"
             ],
             [
              0.3333333333333333,
              "#9c179e"
             ],
             [
              0.4444444444444444,
              "#bd3786"
             ],
             [
              0.5555555555555556,
              "#d8576b"
             ],
             [
              0.6666666666666666,
              "#ed7953"
             ],
             [
              0.7777777777777778,
              "#fb9f3a"
             ],
             [
              0.8888888888888888,
              "#fdca26"
             ],
             [
              1,
              "#f0f921"
             ]
            ],
            "type": "surface"
           }
          ],
          "table": [
           {
            "cells": {
             "fill": {
              "color": "#EBF0F8"
             },
             "line": {
              "color": "white"
             }
            },
            "header": {
             "fill": {
              "color": "#C8D4E3"
             },
             "line": {
              "color": "white"
             }
            },
            "type": "table"
           }
          ]
         },
         "layout": {
          "annotationdefaults": {
           "arrowcolor": "#2a3f5f",
           "arrowhead": 0,
           "arrowwidth": 1
          },
          "autotypenumbers": "strict",
          "coloraxis": {
           "colorbar": {
            "outlinewidth": 0,
            "ticks": ""
           }
          },
          "colorscale": {
           "diverging": [
            [
             0,
             "#8e0152"
            ],
            [
             0.1,
             "#c51b7d"
            ],
            [
             0.2,
             "#de77ae"
            ],
            [
             0.3,
             "#f1b6da"
            ],
            [
             0.4,
             "#fde0ef"
            ],
            [
             0.5,
             "#f7f7f7"
            ],
            [
             0.6,
             "#e6f5d0"
            ],
            [
             0.7,
             "#b8e186"
            ],
            [
             0.8,
             "#7fbc41"
            ],
            [
             0.9,
             "#4d9221"
            ],
            [
             1,
             "#276419"
            ]
           ],
           "sequential": [
            [
             0,
             "#0d0887"
            ],
            [
             0.1111111111111111,
             "#46039f"
            ],
            [
             0.2222222222222222,
             "#7201a8"
            ],
            [
             0.3333333333333333,
             "#9c179e"
            ],
            [
             0.4444444444444444,
             "#bd3786"
            ],
            [
             0.5555555555555556,
             "#d8576b"
            ],
            [
             0.6666666666666666,
             "#ed7953"
            ],
            [
             0.7777777777777778,
             "#fb9f3a"
            ],
            [
             0.8888888888888888,
             "#fdca26"
            ],
            [
             1,
             "#f0f921"
            ]
           ],
           "sequentialminus": [
            [
             0,
             "#0d0887"
            ],
            [
             0.1111111111111111,
             "#46039f"
            ],
            [
             0.2222222222222222,
             "#7201a8"
            ],
            [
             0.3333333333333333,
             "#9c179e"
            ],
            [
             0.4444444444444444,
             "#bd3786"
            ],
            [
             0.5555555555555556,
             "#d8576b"
            ],
            [
             0.6666666666666666,
             "#ed7953"
            ],
            [
             0.7777777777777778,
             "#fb9f3a"
            ],
            [
             0.8888888888888888,
             "#fdca26"
            ],
            [
             1,
             "#f0f921"
            ]
           ]
          },
          "colorway": [
           "#636efa",
           "#EF553B",
           "#00cc96",
           "#ab63fa",
           "#FFA15A",
           "#19d3f3",
           "#FF6692",
           "#B6E880",
           "#FF97FF",
           "#FECB52"
          ],
          "font": {
           "color": "#2a3f5f"
          },
          "geo": {
           "bgcolor": "white",
           "lakecolor": "white",
           "landcolor": "#E5ECF6",
           "showlakes": true,
           "showland": true,
           "subunitcolor": "white"
          },
          "hoverlabel": {
           "align": "left"
          },
          "hovermode": "closest",
          "mapbox": {
           "style": "light"
          },
          "paper_bgcolor": "white",
          "plot_bgcolor": "#E5ECF6",
          "polar": {
           "angularaxis": {
            "gridcolor": "white",
            "linecolor": "white",
            "ticks": ""
           },
           "bgcolor": "#E5ECF6",
           "radialaxis": {
            "gridcolor": "white",
            "linecolor": "white",
            "ticks": ""
           }
          },
          "scene": {
           "xaxis": {
            "backgroundcolor": "#E5ECF6",
            "gridcolor": "white",
            "gridwidth": 2,
            "linecolor": "white",
            "showbackground": true,
            "ticks": "",
            "zerolinecolor": "white"
           },
           "yaxis": {
            "backgroundcolor": "#E5ECF6",
            "gridcolor": "white",
            "gridwidth": 2,
            "linecolor": "white",
            "showbackground": true,
            "ticks": "",
            "zerolinecolor": "white"
           },
           "zaxis": {
            "backgroundcolor": "#E5ECF6",
            "gridcolor": "white",
            "gridwidth": 2,
            "linecolor": "white",
            "showbackground": true,
            "ticks": "",
            "zerolinecolor": "white"
           }
          },
          "shapedefaults": {
           "line": {
            "color": "#2a3f5f"
           }
          },
          "ternary": {
           "aaxis": {
            "gridcolor": "white",
            "linecolor": "white",
            "ticks": ""
           },
           "baxis": {
            "gridcolor": "white",
            "linecolor": "white",
            "ticks": ""
           },
           "bgcolor": "#E5ECF6",
           "caxis": {
            "gridcolor": "white",
            "linecolor": "white",
            "ticks": ""
           }
          },
          "title": {
           "x": 0.05
          },
          "xaxis": {
           "automargin": true,
           "gridcolor": "white",
           "linecolor": "white",
           "ticks": "",
           "title": {
            "standoff": 15
           },
           "zerolinecolor": "white",
           "zerolinewidth": 2
          },
          "yaxis": {
           "automargin": true,
           "gridcolor": "white",
           "linecolor": "white",
           "ticks": "",
           "title": {
            "standoff": 15
           },
           "zerolinecolor": "white",
           "zerolinewidth": 2
          }
         }
        },
        "xaxis": {
         "anchor": "y",
         "domain": [
          0,
          1
         ],
         "title": {
          "text": "Iteration"
         }
        },
        "yaxis": {
         "anchor": "x",
         "domain": [
          0,
          1
         ],
         "title": {
          "text": "Loss"
         }
        }
       }
      }
     },
     "metadata": {},
     "output_type": "display_data"
    }
   ],
   "source": [
    "# Initialize model\n",
    "model = LineGrid(n=n, d=2)  # d=2 as we are regressing both sin and cos\n",
    "\n",
    "# Initialize the built-in Mean-Squared Error loss function\n",
    "mse = nn.MSELoss()\n",
    "\n",
    "# Create a callback that saves loss to a dataframe\n",
    "loss_data = pd.DataFrame(columns=['Iteration', 'Loss'])\n",
    "def record_loss(iteration, model):\n",
    "    loss_data.loc[len(loss_data)] = [iteration, mse(model(x_samples), y_samples).item()]\n",
    "            \n",
    "# Run the training loop\n",
    "train_gd(model, dataset, loss_fn=mse, callback=record_loss)\n",
    "px.line(loss_data, x='Iteration', y='Loss')"
   ]
  },
  {
   "cell_type": "markdown",
   "metadata": {},
   "source": [
    "Note that gradient descent converges rather slow. You could try experimenting with the learning rate to speed this up. \n",
    "\n",
    "After the training has converged, we can evaluate the resulting functions and plot the result against the training data, and we see that we get decent approximations of sin and cos, even with noisy training data:"
   ]
  },
  {
   "cell_type": "code",
   "execution_count": null,
   "metadata": {},
   "outputs": [
    {
     "data": {
      "application/vnd.plotly.v1+json": {
       "config": {
        "plotlyServerURL": "https://plot.ly"
       },
       "data": [
        {
         "mode": "markers",
         "name": "sin",
         "type": "scatter",
         "x": [
          2.1821415424346924,
          16.92962074279785,
          2.8233659267425537,
          12.973258972167969,
          19.32552146911621,
          9.518806457519531,
          18.86598777770996,
          7.202857971191406,
          18.150772094726562,
          4.127013683319092,
          19.066822052001953,
          7.813444137573242,
          19.949440002441406,
          4.02255916595459,
          5.422545433044434,
          17.777099609375,
          13.108844757080078,
          9.225221633911133,
          7.117610931396484,
          3.1173229217529297,
          18.546768188476562,
          10.762534141540527,
          14.363736152648926,
          0.9216880798339844,
          15.886402130126953,
          0.6493806838989258,
          13.760653495788574,
          3.447096347808838,
          4.321985244750977,
          0.5789792537689209,
          3.9636623859405518,
          15.375328063964844,
          10.804486274719238,
          10.531023025512695,
          7.861959934234619,
          4.319377899169922,
          8.103226661682129,
          8.791242599487305,
          13.644243240356445,
          0.1125180721282959,
          12.96816635131836,
          9.420269966125488,
          12.446008682250977,
          18.264867782592773,
          10.890268325805664,
          18.085914611816406,
          17.72235870361328,
          1.791931390762329,
          6.320483684539795,
          5.109951496124268,
          13.281623840332031,
          16.590177536010742,
          16.65057373046875,
          9.85994815826416,
          9.060527801513672,
          12.283912658691406,
          13.722970962524414,
          11.326427459716797,
          2.4490725994110107,
          9.972131729125977,
          17.170480728149414,
          1.0424327850341797,
          18.258956909179688,
          4.412640571594238,
          6.226258277893066,
          19.451156616210938,
          0.2531290054321289,
          1.893080472946167,
          2.9966700077056885,
          16.648160934448242,
          17.355838775634766,
          4.931053161621094,
          10.833135604858398,
          0.6280624866485596,
          0.7793724536895752,
          5.9270405769348145,
          0.1236414909362793,
          11.91250228881836,
          14.551339149475098,
          12.956313133239746,
          16.330322265625,
          8.88180923461914,
          9.538642883300781,
          5.624164581298828,
          6.255592346191406,
          11.070329666137695,
          7.533746719360352,
          3.2304179668426514,
          6.038631439208984,
          15.733346939086914,
          12.12066650390625,
          18.092233657836914,
          5.217010974884033,
          17.21332359313965,
          4.983564376831055,
          16.744678497314453,
          3.2502949237823486,
          10.036693572998047,
          1.7625796794891357,
          7.112948894500732,
          7.4187421798706055,
          17.433372497558594,
          10.863201141357422,
          5.3647637367248535,
          3.8413965702056885,
          16.370996475219727,
          13.855091094970703,
          14.94933032989502,
          5.047626495361328,
          8.53318977355957,
          6.012168884277344,
          18.288272857666016,
          18.866212844848633,
          8.236095428466797,
          16.2100772857666,
          4.809684753417969,
          8.196555137634277,
          7.546184062957764,
          8.984185218811035,
          9.62079906463623,
          5.307989120483398,
          2.8310275077819824,
          6.680572032928467,
          6.347146034240723,
          6.619224548339844,
          12.03754997253418,
          19.076740264892578,
          18.720590591430664,
          0.8372926712036133,
          2.7728521823883057,
          7.320710182189941,
          5.579812526702881,
          17.902719497680664,
          2.051074504852295,
          7.362123489379883,
          15.543631553649902,
          13.546490669250488,
          17.838621139526367,
          14.345599174499512,
          4.3170166015625,
          9.620232582092285,
          6.6069769859313965,
          7.136828899383545,
          7.49078369140625,
          14.935774803161621,
          5.189163684844971,
          17.197452545166016,
          2.2497951984405518,
          16.92488670349121,
          5.703710556030273,
          9.888132095336914,
          4.182677268981934,
          13.885422706604004,
          17.491580963134766,
          17.50076675415039,
          10.807525634765625,
          15.339956283569336,
          5.546731948852539,
          1.5601050853729248,
          0.35174012184143066,
          17.741403579711914,
          9.271611213684082,
          0.6567764282226562,
          16.275585174560547,
          19.06156349182129,
          0.4259967803955078,
          17.122907638549805,
          3.3638429641723633,
          5.788776874542236,
          13.802136421203613,
          16.49204444885254,
          18.887454986572266,
          18.442262649536133,
          6.637022495269775,
          9.714925765991211,
          8.604202270507812,
          18.1745548248291,
          16.70058822631836,
          8.129968643188477,
          17.700450897216797,
          0.6109535694122314,
          14.380921363830566,
          10.801753044128418,
          3.400278091430664,
          8.892827987670898,
          5.651079177856445,
          8.479394912719727,
          16.82147789001465,
          7.660447120666504,
          16.49207878112793,
          2.4012815952301025,
          4.428554534912109,
          11.814403533935547,
          14.407697677612305,
          4.772029876708984,
          16.177093505859375,
          18.41972541809082,
          11.608480453491211,
          16.737407684326172,
          12.382028579711914,
          18.689905166625977,
          10.864500999450684,
          4.18168306350708,
          3.9918196201324463,
          18.72071647644043,
          18.945018768310547,
          6.5754804611206055,
          2.077493667602539,
          9.573238372802734,
          3.7294089794158936,
          1.1391639709472656,
          16.655004501342773,
          9.816423416137695,
          0.40359020233154297,
          17.99894142150879,
          10.976518630981445,
          15.57186508178711,
          5.5495381355285645,
          2.4279189109802246,
          11.276226997375488,
          6.219215393066406,
          17.160383224487305,
          10.769038200378418,
          7.351667881011963,
          1.4372014999389648,
          17.9703311920166,
          4.839982032775879,
          5.770215034484863,
          10.342917442321777,
          13.17110538482666,
          1.4280319213867188,
          1.8393754959106445,
          1.429281234741211,
          6.846381187438965,
          19.969213485717773,
          4.408236503601074,
          10.52212905883789,
          12.609986305236816,
          5.268058776855469,
          1.1303997039794922,
          9.156368255615234,
          11.981409072875977,
          4.077669143676758,
          13.195728302001953,
          5.300459861755371,
          17.854236602783203,
          17.77520751953125,
          8.703125,
          19.56656265258789,
          0.05419015884399414
         ],
         "y": [
          0.7544829845428467,
          -0.7704840302467346,
          0.5844564437866211,
          -0.6159424781799316,
          -0.09259780496358871,
          0.12270759046077728,
          -0.4446464776992798,
          0.7766042351722717,
          -0.49881571531295776,
          1.0236215591430664,
          -0.35491943359375,
          0.5259456634521484,
          -0.0011449754238128662,
          0.9073708057403564,
          0.7175542712211609,
          -0.6992111802101135,
          -0.7998271584510803,
          0.0441451221704483,
          0.7139523029327393,
          0.8201784491539001,
          -0.33965933322906494,
          -0.35328957438468933,
          -0.8729713559150696,
          0.1597442328929901,
          -1.0583524703979492,
          0.22723615169525146,
          -0.6964050531387329,
          0.7410037517547607,
          0.8414432406425476,
          0.3474762737751007,
          0.9078489542007446,
          -0.9610640406608582,
          -0.15639162063598633,
          -0.2527974843978882,
          0.590128481388092,
          1.0289825201034546,
          0.5660673379898071,
          0.29924219846725464,
          -1.0083104372024536,
          0.07277077436447144,
          -0.7566989064216614,
          0.13758805394172668,
          -0.7721625566482544,
          -0.5895665884017944,
          -0.3895725607872009,
          -0.6274745464324951,
          -0.7719681262969971,
          0.5089942216873169,
          0.8129331469535828,
          0.9577041268348694,
          -0.877207338809967,
          -0.8313690423965454,
          -1.0934691429138184,
          0.20718252658843994,
          0.21294665336608887,
          -0.8076287508010864,
          -1.1097413301467896,
          -0.3721398711204529,
          0.7229658961296082,
          -0.14665943384170532,
          -0.6931232810020447,
          0.3197515606880188,
          -0.6167511343955994,
          0.8457528352737427,
          0.8832152485847473,
          -0.4355839490890503,
          0.27110424637794495,
          0.46695902943611145,
          0.8109615445137024,
          -0.9807547330856323,
          -0.6038717031478882,
          1.0018737316131592,
          -0.4953540563583374,
          0.3629099726676941,
          0.28233230113983154,
          0.9707427024841309,
          0.03745679557323456,
          -0.7149273157119751,
          -1.1157050132751465,
          -0.5289840698242188,
          -0.9911917448043823,
          0.22208216786384583,
          0.16551010310649872,
          0.8598073124885559,
          0.8966634273529053,
          -0.4204174876213074,
          0.7932944893836975,
          0.7354916334152222,
          0.8941683769226074,
          -1.1257355213165283,
          -0.6170213222503662,
          -0.44967398047447205,
          0.8833776116371155,
          -0.722551167011261,
          0.9221897125244141,
          -0.684410035610199,
          0.7742520570755005,
          0.10974162817001343,
          0.5747283101081848,
          0.7577078342437744,
          0.8723050951957703,
          -0.6850921511650085,
          -0.4349880814552307,
          0.861892580986023,
          0.9156407713890076,
          -0.9489113092422485,
          -0.9309120774269104,
          -0.9750692844390869,
          0.9628915786743164,
          0.44961363077163696,
          0.9780076146125793,
          -0.40951094031333923,
          -0.4033355116844177,
          0.6482738852500916,
          -1.0274567604064941,
          0.8277703523635864,
          0.3640563488006592,
          0.6965551972389221,
          0.34534355998039246,
          0.10415378212928772,
          0.9276963472366333,
          0.6790473461151123,
          0.850184977054596,
          0.9163461327552795,
          0.8192548155784607,
          -0.446527898311615,
          -0.32910045981407166,
          -0.3458857238292694,
          0.3801642656326294,
          0.8087021708488464,
          0.828366756439209,
          0.9391067624092102,
          -0.48821359872817993,
          0.6262291669845581,
          0.6921987533569336,
          -0.785904049873352,
          -0.9259606599807739,
          -0.6380067467689514,
          -1.0163147449493408,
          1.1466022729873657,
          0.08767040073871613,
          0.9139810800552368,
          0.48625844717025757,
          0.8168787360191345,
          -0.9964700937271118,
          1.1588104963302612,
          -0.8216700553894043,
          0.646706223487854,
          -0.8105689883232117,
          1.0692394971847534,
          0.2530227601528168,
          0.9766013026237488,
          -0.8778578639030457,
          -0.5610549449920654,
          -0.9604461193084717,
          -0.30937668681144714,
          -0.9287896156311035,
          0.8009970784187317,
          0.4267261028289795,
          0.09043906629085541,
          -0.5748552680015564,
          0.1218613013625145,
          0.24767537415027618,
          -1.0108884572982788,
          -0.09003275632858276,
          0.09980711340904236,
          -0.8620743751525879,
          0.6999797224998474,
          0.8324043154716492,
          -0.9823561310768127,
          -0.827836275100708,
          -0.3700536787509918,
          -0.4832212030887604,
          0.9150990843772888,
          -0.022274643182754517,
          0.36693933606147766,
          -0.4257490336894989,
          -0.6953443288803101,
          0.42737191915512085,
          -0.6544614434242249,
          0.09606222808361053,
          -0.8752346634864807,
          -0.3009933829307556,
          0.8768929839134216,
          0.42920398712158203,
          1.01102876663208,
          0.5175644159317017,
          -0.9594820737838745,
          0.6990928649902344,
          -0.9837226867675781,
          0.6646516919136047,
          1.1101289987564087,
          -0.7600434422492981,
          -0.9515882730484009,
          0.9455031156539917,
          -1.0270131826400757,
          -0.4577063024044037,
          -0.43975627422332764,
          -0.8591951131820679,
          -0.7374711036682129,
          -0.45162272453308105,
          -0.37173911929130554,
          0.981061577796936,
          0.8749738335609436,
          -0.5229729413986206,
          -0.33345305919647217,
          0.8589857816696167,
          0.4984806478023529,
          0.10664740949869156,
          0.9108719229698181,
          0.44400668144226074,
          -0.9643046855926514,
          0.024322327226400375,
          0.09770291298627853,
          -0.6142430901527405,
          -0.23214302957057953,
          -1.023966908454895,
          1.055844783782959,
          0.8236998319625854,
          -0.505934476852417,
          1.0721315145492554,
          -0.8832802176475525,
          -0.17654633522033691,
          0.8499727249145508,
          0.5285331010818481,
          -0.5271100401878357,
          0.9386747479438782,
          0.9744361639022827,
          -0.2605530023574829,
          -0.9509190917015076,
          0.3420717716217041,
          0.5029752850532532,
          0.33690300583839417,
          0.878282904624939,
          -0.19646765291690826,
          1.0145543813705444,
          0.005904853343963623,
          -0.7475074529647827,
          1.1130930185317993,
          0.26831790804862976,
          0.1820850521326065,
          -0.5505107641220093,
          0.7669624090194702,
          -0.8733557462692261,
          0.9149070382118225,
          -0.6011269688606262,
          -0.6453548073768616,
          0.49782028794288635,
          -0.35717400908470154,
          0.1134413331747055
         ]
        },
        {
         "mode": "markers",
         "name": "cos",
         "type": "scatter",
         "x": [
          2.1821415424346924,
          16.92962074279785,
          2.8233659267425537,
          12.973258972167969,
          19.32552146911621,
          9.518806457519531,
          18.86598777770996,
          7.202857971191406,
          18.150772094726562,
          4.127013683319092,
          19.066822052001953,
          7.813444137573242,
          19.949440002441406,
          4.02255916595459,
          5.422545433044434,
          17.777099609375,
          13.108844757080078,
          9.225221633911133,
          7.117610931396484,
          3.1173229217529297,
          18.546768188476562,
          10.762534141540527,
          14.363736152648926,
          0.9216880798339844,
          15.886402130126953,
          0.6493806838989258,
          13.760653495788574,
          3.447096347808838,
          4.321985244750977,
          0.5789792537689209,
          3.9636623859405518,
          15.375328063964844,
          10.804486274719238,
          10.531023025512695,
          7.861959934234619,
          4.319377899169922,
          8.103226661682129,
          8.791242599487305,
          13.644243240356445,
          0.1125180721282959,
          12.96816635131836,
          9.420269966125488,
          12.446008682250977,
          18.264867782592773,
          10.890268325805664,
          18.085914611816406,
          17.72235870361328,
          1.791931390762329,
          6.320483684539795,
          5.109951496124268,
          13.281623840332031,
          16.590177536010742,
          16.65057373046875,
          9.85994815826416,
          9.060527801513672,
          12.283912658691406,
          13.722970962524414,
          11.326427459716797,
          2.4490725994110107,
          9.972131729125977,
          17.170480728149414,
          1.0424327850341797,
          18.258956909179688,
          4.412640571594238,
          6.226258277893066,
          19.451156616210938,
          0.2531290054321289,
          1.893080472946167,
          2.9966700077056885,
          16.648160934448242,
          17.355838775634766,
          4.931053161621094,
          10.833135604858398,
          0.6280624866485596,
          0.7793724536895752,
          5.9270405769348145,
          0.1236414909362793,
          11.91250228881836,
          14.551339149475098,
          12.956313133239746,
          16.330322265625,
          8.88180923461914,
          9.538642883300781,
          5.624164581298828,
          6.255592346191406,
          11.070329666137695,
          7.533746719360352,
          3.2304179668426514,
          6.038631439208984,
          15.733346939086914,
          12.12066650390625,
          18.092233657836914,
          5.217010974884033,
          17.21332359313965,
          4.983564376831055,
          16.744678497314453,
          3.2502949237823486,
          10.036693572998047,
          1.7625796794891357,
          7.112948894500732,
          7.4187421798706055,
          17.433372497558594,
          10.863201141357422,
          5.3647637367248535,
          3.8413965702056885,
          16.370996475219727,
          13.855091094970703,
          14.94933032989502,
          5.047626495361328,
          8.53318977355957,
          6.012168884277344,
          18.288272857666016,
          18.866212844848633,
          8.236095428466797,
          16.2100772857666,
          4.809684753417969,
          8.196555137634277,
          7.546184062957764,
          8.984185218811035,
          9.62079906463623,
          5.307989120483398,
          2.8310275077819824,
          6.680572032928467,
          6.347146034240723,
          6.619224548339844,
          12.03754997253418,
          19.076740264892578,
          18.720590591430664,
          0.8372926712036133,
          2.7728521823883057,
          7.320710182189941,
          5.579812526702881,
          17.902719497680664,
          2.051074504852295,
          7.362123489379883,
          15.543631553649902,
          13.546490669250488,
          17.838621139526367,
          14.345599174499512,
          4.3170166015625,
          9.620232582092285,
          6.6069769859313965,
          7.136828899383545,
          7.49078369140625,
          14.935774803161621,
          5.189163684844971,
          17.197452545166016,
          2.2497951984405518,
          16.92488670349121,
          5.703710556030273,
          9.888132095336914,
          4.182677268981934,
          13.885422706604004,
          17.491580963134766,
          17.50076675415039,
          10.807525634765625,
          15.339956283569336,
          5.546731948852539,
          1.5601050853729248,
          0.35174012184143066,
          17.741403579711914,
          9.271611213684082,
          0.6567764282226562,
          16.275585174560547,
          19.06156349182129,
          0.4259967803955078,
          17.122907638549805,
          3.3638429641723633,
          5.788776874542236,
          13.802136421203613,
          16.49204444885254,
          18.887454986572266,
          18.442262649536133,
          6.637022495269775,
          9.714925765991211,
          8.604202270507812,
          18.1745548248291,
          16.70058822631836,
          8.129968643188477,
          17.700450897216797,
          0.6109535694122314,
          14.380921363830566,
          10.801753044128418,
          3.400278091430664,
          8.892827987670898,
          5.651079177856445,
          8.479394912719727,
          16.82147789001465,
          7.660447120666504,
          16.49207878112793,
          2.4012815952301025,
          4.428554534912109,
          11.814403533935547,
          14.407697677612305,
          4.772029876708984,
          16.177093505859375,
          18.41972541809082,
          11.608480453491211,
          16.737407684326172,
          12.382028579711914,
          18.689905166625977,
          10.864500999450684,
          4.18168306350708,
          3.9918196201324463,
          18.72071647644043,
          18.945018768310547,
          6.5754804611206055,
          2.077493667602539,
          9.573238372802734,
          3.7294089794158936,
          1.1391639709472656,
          16.655004501342773,
          9.816423416137695,
          0.40359020233154297,
          17.99894142150879,
          10.976518630981445,
          15.57186508178711,
          5.5495381355285645,
          2.4279189109802246,
          11.276226997375488,
          6.219215393066406,
          17.160383224487305,
          10.769038200378418,
          7.351667881011963,
          1.4372014999389648,
          17.9703311920166,
          4.839982032775879,
          5.770215034484863,
          10.342917442321777,
          13.17110538482666,
          1.4280319213867188,
          1.8393754959106445,
          1.429281234741211,
          6.846381187438965,
          19.969213485717773,
          4.408236503601074,
          10.52212905883789,
          12.609986305236816,
          5.268058776855469,
          1.1303997039794922,
          9.156368255615234,
          11.981409072875977,
          4.077669143676758,
          13.195728302001953,
          5.300459861755371,
          17.854236602783203,
          17.77520751953125,
          8.703125,
          19.56656265258789,
          0.05419015884399414
         ],
         "y": [
          0.6409931182861328,
          0.6655207276344299,
          0.6542816162109375,
          -0.670132577419281,
          0.8367023468017578,
          -1.07328200340271,
          1.087395191192627,
          -0.7301470041275024,
          0.8600548505783081,
          0.41045165061950684,
          0.8667395114898682,
          -0.8204946517944336,
          1.066834568977356,
          0.29210466146469116,
          -0.03954315930604935,
          0.7703693509101868,
          -0.6862319707870483,
          -0.7949469685554504,
          -0.7487695217132568,
          0.5644002556800842,
          1.1342527866363525,
          -1.1276384592056274,
          -0.1643529087305069,
          0.9025714993476868,
          0.26271432638168335,
          1.0859100818634033,
          -0.26062360405921936,
          0.5360504984855652,
          0.1512209177017212,
          0.9802237749099731,
          0.3309860825538635,
          0.14551539719104767,
          -0.9027962684631348,
          -0.8347439169883728,
          -0.9252068996429443,
          0.11786680668592453,
          -0.8801977634429932,
          -0.9643048644065857,
          -0.48348280787467957,
          1.0211747884750366,
          -0.6645839810371399,
          -1.0139563083648682,
          -0.8974903225898743,
          0.767194926738739,
          -1.014459490776062,
          0.8037713766098022,
          0.9153168797492981,
          0.8380415439605713,
          -0.6233597993850708,
          -0.05056394636631012,
          -0.4156523644924164,
          0.5092100501060486,
          0.5401159524917603,
          -1.116510272026062,
          -0.9016318321228027,
          -0.9000111222267151,
          -0.2227427065372467,
          -0.9734935164451599,
          0.7535240054130554,
          -1.1142306327819824,
          0.5423914194107056,
          0.8643713593482971,
          0.8528704643249512,
          0.13690981268882751,
          -0.2647819519042969,
          0.9738052487373352,
          0.8612035512924194,
          0.980068564414978,
          0.4313494563102722,
          0.46413514018058777,
          0.6270167231559753,
          0.23001034557819366,
          -0.8453521132469177,
          0.9397048354148865,
          0.9263989925384521,
          -0.26569879055023193,
          0.9179803133010864,
          -0.9973803162574768,
          -0.2878502607345581,
          -0.598358690738678,
          0.18782977759838104,
          -1.0557823181152344,
          -1.0019532442092896,
          -0.2005557119846344,
          -0.33529767394065857,
          -1.0077489614486694,
          -0.7702605128288269,
          0.49091407656669617,
          -0.45979607105255127,
          0.1870168149471283,
          -0.8104203939437866,
          0.9104273915290833,
          0.03914804011583328,
          0.6063072085380554,
          0.09267193078994751,
          0.46686476469039917,
          0.5187795162200928,
          -1.0181773900985718,
          0.8205587267875671,
          -0.6114465594291687,
          -0.6051039695739746,
          0.8146603107452393,
          -1.1170501708984375,
          -0.22825247049331665,
          0.4117884635925293,
          0.3730343282222748,
          -0.4756123721599579,
          0.026628883555531502,
          -0.020290834829211235,
          -0.9421146512031555,
          -0.21991267800331116,
          0.8642477989196777,
          0.9829654693603516,
          -0.9110039472579956,
          0.25441375374794006,
          0.029992545023560524,
          -0.9729260802268982,
          -0.827989935874939,
          -0.9523772597312927,
          -0.9830292463302612,
          -0.080812469124794,
          0.5261014103889465,
          -0.5243803858757019,
          -0.4442886710166931,
          -0.37287473678588867,
          -0.9337041974067688,
          0.8503383994102478,
          0.9721062183380127,
          1.0468418598175049,
          0.6852167844772339,
          -0.6610679626464844,
          -0.06786994636058807,
          0.6469920873641968,
          0.8120938539505005,
          -0.848231315612793,
          0.23447853326797485,
          -0.4937784671783447,
          0.8793305158615112,
          -0.11999562382698059,
          0.28453049063682556,
          -1.1087032556533813,
          -0.43952876329421997,
          -0.6475451588630676,
          -0.7317771315574646,
          -0.008078739047050476,
          -0.0885157436132431,
          0.7716550230979919,
          0.6214308738708496,
          0.7549383640289307,
          -0.1459197700023651,
          -1.0336318016052246,
          0.42863863706588745,
          -0.4142785668373108,
          0.6843708753585815,
          0.5030607581138611,
          -0.8646803498268127,
          0.040521033108234406,
          -0.19091203808784485,
          0.5705968141555786,
          0.8051355481147766,
          0.7773564457893372,
          -1.0536584854125977,
          0.9749473333358765,
          0.3802926540374756,
          0.7983502149581909,
          1.0857336521148682,
          0.5760704278945923,
          0.6448220014572144,
          -0.46343380212783813,
          -0.41579967737197876,
          0.3480061888694763,
          0.9546788930892944,
          0.8057376742362976,
          -0.2862544655799866,
          -0.7678345441818237,
          -0.8183188438415527,
          0.9411243796348572,
          0.4104750454425812,
          -1.0671368837356567,
          0.8599364161491394,
          0.9594853520393372,
          -0.2576908469200134,
          -0.9099736213684082,
          0.62357097864151,
          -0.9512318968772888,
          -0.3272281885147095,
          -0.8179868459701538,
          0.4779392182826996,
          -0.6582580804824829,
          0.5599306225776672,
          0.7443687915802002,
          0.1319521963596344,
          -0.8216122984886169,
          -0.13444706797599792,
          0.07827519625425339,
          0.3153769373893738,
          0.8815203905105591,
          -0.8786113858222961,
          0.5570306777954102,
          -0.6830150485038757,
          0.8155683279037476,
          -0.8886234760284424,
          0.26339638233184814,
          0.3440767526626587,
          0.9394232630729675,
          1.1166592836380005,
          -0.7582827806472778,
          0.7632430195808411,
          -0.9230316281318665,
          0.3225677013397217,
          0.9674019813537598,
          0.44798964262008667,
          -0.9739407300949097,
          0.9898719787597656,
          0.7315900325775146,
          -1.1550111770629883,
          0.18156293034553528,
          -0.28979483246803284,
          0.8266895413398743,
          -0.9998681545257568,
          -0.4144055247306824,
          0.5954090356826782,
          -0.9999921917915344,
          -0.8170832395553589,
          0.9481425881385803,
          0.7896907329559326,
          -0.002832319587469101,
          -0.29397135972976685,
          -1.0315040349960327,
          -0.40692347288131714,
          0.9715350866317749,
          0.9023404121398926,
          0.7934170365333557,
          -0.5499196648597717,
          0.9727566242218018,
          0.3054540753364563,
          -1.06836998462677,
          -0.6564024686813354,
          -0.10772170126438141,
          0.8884396553039551,
          -1.1140005588531494,
          -0.8777265548706055,
          0.48109006881713867,
          -0.4964541792869568,
          -0.07957687973976135,
          0.8812710046768188,
          0.8670336604118347,
          -0.8291817903518677,
          0.9685038924217224,
          0.9783737659454346
         ]
        },
        {
         "mode": "lines",
         "name": "predicted sin",
         "type": "scatter",
         "x": [
          0.05419015884399414,
          0.1125180721282959,
          0.1236414909362793,
          0.2531290054321289,
          0.35174012184143066,
          0.40359020233154297,
          0.4259967803955078,
          0.5789792537689209,
          0.6109535694122314,
          0.6280624866485596,
          0.6493806838989258,
          0.6567764282226562,
          0.7793724536895752,
          0.8372926712036133,
          0.9216880798339844,
          1.0424327850341797,
          1.1303997039794922,
          1.1391639709472656,
          1.4280319213867188,
          1.429281234741211,
          1.4372014999389648,
          1.5601050853729248,
          1.7625796794891357,
          1.791931390762329,
          1.8393754959106445,
          1.893080472946167,
          2.051074504852295,
          2.077493667602539,
          2.1821415424346924,
          2.2497951984405518,
          2.4012815952301025,
          2.4279189109802246,
          2.4490725994110107,
          2.7728521823883057,
          2.8233659267425537,
          2.8310275077819824,
          2.9966700077056885,
          3.1173229217529297,
          3.2304179668426514,
          3.2502949237823486,
          3.3638429641723633,
          3.400278091430664,
          3.447096347808838,
          3.7294089794158936,
          3.8413965702056885,
          3.9636623859405518,
          3.9918196201324463,
          4.02255916595459,
          4.077669143676758,
          4.127013683319092,
          4.18168306350708,
          4.182677268981934,
          4.3170166015625,
          4.319377899169922,
          4.321985244750977,
          4.408236503601074,
          4.412640571594238,
          4.428554534912109,
          4.772029876708984,
          4.809684753417969,
          4.839982032775879,
          4.931053161621094,
          4.983564376831055,
          5.047626495361328,
          5.109951496124268,
          5.189163684844971,
          5.217010974884033,
          5.268058776855469,
          5.300459861755371,
          5.307989120483398,
          5.3647637367248535,
          5.422545433044434,
          5.546731948852539,
          5.5495381355285645,
          5.579812526702881,
          5.624164581298828,
          5.651079177856445,
          5.703710556030273,
          5.770215034484863,
          5.788776874542236,
          5.9270405769348145,
          6.012168884277344,
          6.038631439208984,
          6.219215393066406,
          6.226258277893066,
          6.255592346191406,
          6.320483684539795,
          6.347146034240723,
          6.5754804611206055,
          6.6069769859313965,
          6.619224548339844,
          6.637022495269775,
          6.680572032928467,
          6.846381187438965,
          7.112948894500732,
          7.117610931396484,
          7.136828899383545,
          7.202857971191406,
          7.320710182189941,
          7.351667881011963,
          7.362123489379883,
          7.4187421798706055,
          7.49078369140625,
          7.533746719360352,
          7.546184062957764,
          7.660447120666504,
          7.813444137573242,
          7.861959934234619,
          8.103226661682129,
          8.129968643188477,
          8.196555137634277,
          8.236095428466797,
          8.479394912719727,
          8.53318977355957,
          8.604202270507812,
          8.703125,
          8.791242599487305,
          8.88180923461914,
          8.892827987670898,
          8.984185218811035,
          9.060527801513672,
          9.156368255615234,
          9.225221633911133,
          9.271611213684082,
          9.420269966125488,
          9.518806457519531,
          9.538642883300781,
          9.573238372802734,
          9.620232582092285,
          9.62079906463623,
          9.714925765991211,
          9.816423416137695,
          9.85994815826416,
          9.888132095336914,
          9.972131729125977,
          10.036693572998047,
          10.342917442321777,
          10.52212905883789,
          10.531023025512695,
          10.762534141540527,
          10.769038200378418,
          10.801753044128418,
          10.804486274719238,
          10.807525634765625,
          10.833135604858398,
          10.863201141357422,
          10.864500999450684,
          10.890268325805664,
          10.976518630981445,
          11.070329666137695,
          11.276226997375488,
          11.326427459716797,
          11.608480453491211,
          11.814403533935547,
          11.91250228881836,
          11.981409072875977,
          12.03754997253418,
          12.12066650390625,
          12.283912658691406,
          12.382028579711914,
          12.446008682250977,
          12.609986305236816,
          12.956313133239746,
          12.96816635131836,
          12.973258972167969,
          13.108844757080078,
          13.17110538482666,
          13.195728302001953,
          13.281623840332031,
          13.546490669250488,
          13.644243240356445,
          13.722970962524414,
          13.760653495788574,
          13.802136421203613,
          13.855091094970703,
          13.885422706604004,
          14.345599174499512,
          14.363736152648926,
          14.380921363830566,
          14.407697677612305,
          14.551339149475098,
          14.935774803161621,
          14.94933032989502,
          15.339956283569336,
          15.375328063964844,
          15.543631553649902,
          15.57186508178711,
          15.733346939086914,
          15.886402130126953,
          16.177093505859375,
          16.2100772857666,
          16.275585174560547,
          16.330322265625,
          16.370996475219727,
          16.49204444885254,
          16.49207878112793,
          16.590177536010742,
          16.648160934448242,
          16.65057373046875,
          16.655004501342773,
          16.70058822631836,
          16.737407684326172,
          16.744678497314453,
          16.82147789001465,
          16.92488670349121,
          16.92962074279785,
          17.122907638549805,
          17.160383224487305,
          17.170480728149414,
          17.197452545166016,
          17.21332359313965,
          17.355838775634766,
          17.433372497558594,
          17.491580963134766,
          17.50076675415039,
          17.700450897216797,
          17.72235870361328,
          17.741403579711914,
          17.77520751953125,
          17.777099609375,
          17.838621139526367,
          17.854236602783203,
          17.902719497680664,
          17.9703311920166,
          17.99894142150879,
          18.085914611816406,
          18.092233657836914,
          18.150772094726562,
          18.1745548248291,
          18.258956909179688,
          18.264867782592773,
          18.288272857666016,
          18.41972541809082,
          18.442262649536133,
          18.546768188476562,
          18.689905166625977,
          18.720590591430664,
          18.72071647644043,
          18.86598777770996,
          18.866212844848633,
          18.887454986572266,
          18.945018768310547,
          19.06156349182129,
          19.066822052001953,
          19.076740264892578,
          19.32552146911621,
          19.451156616210938,
          19.56656265258789,
          19.949440002441406,
          19.969213485717773
         ],
         "y": [
          0.08731184899806976,
          0.10101541876792908,
          0.10362875461578369,
          0.13405060768127441,
          0.1572183221578598,
          0.16939999163150787,
          0.1746641993522644,
          0.2106059491634369,
          0.21811801195144653,
          0.22213757038116455,
          0.22714608907699585,
          0.22888363897800446,
          0.25768640637397766,
          0.2712942063808441,
          0.29112207889556885,
          0.32178327441215515,
          0.34720468521118164,
          0.3497374653816223,
          0.43321692943573,
          0.4335779547691345,
          0.4358668327331543,
          0.47138452529907227,
          0.5298973321914673,
          0.5383796095848083,
          0.5520904064178467,
          0.567610502243042,
          0.6050237417221069,
          0.6083936095237732,
          0.6217418313026428,
          0.6303712725639343,
          0.6496939659118652,
          0.6530916690826416,
          0.655789852142334,
          0.6970891356468201,
          0.703532338142395,
          0.7045096158981323,
          0.7256379127502441,
          0.7528117299079895,
          0.7785968780517578,
          0.7831287384033203,
          0.8090171813964844,
          0.817324161529541,
          0.8279985189437866,
          0.892364501953125,
          0.91789710521698,
          0.945773184299469,
          0.9521929025650024,
          0.9535716772079468,
          0.9523837566375732,
          0.9513200521469116,
          0.9501416683197021,
          0.9501202702522278,
          0.947224497795105,
          0.9471735954284668,
          0.9471173286437988,
          0.9452581405639648,
          0.9451632499694824,
          0.9448201656341553,
          0.9374163150787354,
          0.9366046190261841,
          0.9359514713287354,
          0.9339883923530579,
          0.9328565001487732,
          0.9347595572471619,
          0.9377136826515198,
          0.9414681792259216,
          0.9427880644798279,
          0.9452075958251953,
          0.946743369102478,
          0.9471002817153931,
          0.9497912526130676,
          0.9525299668312073,
          0.9584161639213562,
          0.9585491418838501,
          0.9599840641021729,
          0.9620863199234009,
          0.9633619785308838,
          0.9658565521240234,
          0.96900874376297,
          0.9698885679244995,
          0.9764419198036194,
          0.9769607186317444,
          0.9705686569213867,
          0.9269486665725708,
          0.9252474904060364,
          0.9181618690490723,
          0.9024873971939087,
          0.8960471153259277,
          0.840893030166626,
          0.8332850933074951,
          0.8303266763687134,
          0.8260275721549988,
          0.8155081868171692,
          0.7754570245742798,
          0.7352635860443115,
          0.7351362109184265,
          0.7346109747886658,
          0.7328063249588013,
          0.7295854091644287,
          0.728739321231842,
          0.7284535765647888,
          0.7269061803817749,
          0.7249372005462646,
          0.7237630486488342,
          0.7234231233596802,
          0.7203003168106079,
          0.7161188125610352,
          0.7147929072380066,
          0.6535621881484985,
          0.6386770606040955,
          0.6016137003898621,
          0.5796048045158386,
          0.4441794157028198,
          0.4142360985279083,
          0.3747091293334961,
          0.3196467459201813,
          0.27059870958328247,
          0.2201875001192093,
          0.21405424177646637,
          0.16320297122001648,
          0.15260154008865356,
          0.14975358545780182,
          0.14770756661891937,
          0.14632907509803772,
          0.1419115960597992,
          0.13898351788520813,
          0.1383940875530243,
          0.13736605644226074,
          0.1359695941209793,
          0.13595277070999146,
          0.1331557333469391,
          0.13013967871665955,
          0.12884631752967834,
          0.12800881266593933,
          0.1255127191543579,
          0.1044485941529274,
          -0.0644296258687973,
          -0.16326235234737396,
          -0.16816726326942444,
          -0.29584240913391113,
          -0.299429327249527,
          -0.31747111678123474,
          -0.3189784586429596,
          -0.32065460085868835,
          -0.33477815985679626,
          -0.35135889053344727,
          -0.3520757257938385,
          -0.366286039352417,
          -0.41385191679000854,
          -0.4413031041622162,
          -0.4837578535079956,
          -0.4941088557243347,
          -0.5522664189338684,
          -0.5947264432907104,
          -0.6149538159370422,
          -0.6291619539260864,
          -0.637527585029602,
          -0.6475598216056824,
          -0.6672636866569519,
          -0.6791063547134399,
          -0.6868287920951843,
          -0.7066209316253662,
          -0.7484227418899536,
          -0.7498534321784973,
          -0.7504681348800659,
          -0.7776835560798645,
          -0.7914049029350281,
          -0.7968314290046692,
          -0.8157615065574646,
          -0.8741342425346375,
          -0.8956774473190308,
          -0.9130278825759888,
          -0.921332597732544,
          -0.9304747581481934,
          -0.9421451687812805,
          -0.9488298296928406,
          -0.9863299131393433,
          -0.9869727492332458,
          -0.9875818490982056,
          -0.9885308742523193,
          -0.9936219453811646,
          -1.0072473287582397,
          -1.0077277421951294,
          -0.9832546710968018,
          -0.9805214405059814,
          -0.967516303062439,
          -0.9653347730636597,
          -0.9528567790985107,
          -0.941029965877533,
          -0.9217221736907959,
          -0.9197610020637512,
          -0.915865957736969,
          -0.9126113653182983,
          -0.9101928472518921,
          -0.9029954671859741,
          -0.9029934406280518,
          -0.897160530090332,
          -0.8937128782272339,
          -0.8935694694519043,
          -0.8933060169219971,
          -0.8905956149101257,
          -0.8884063363075256,
          -0.8879740238189697,
          -0.8834075927734375,
          -0.8772590160369873,
          -0.8769774436950684,
          -0.8339447975158691,
          -0.8220997452735901,
          -0.818908154964447,
          -0.8103830814361572,
          -0.8053666353225708,
          -0.7603211998939514,
          -0.7358148097991943,
          -0.717416524887085,
          -0.7145131826400757,
          -0.6513981223106384,
          -0.6444736123085022,
          -0.638454020023346,
          -0.6277694702148438,
          -0.6271713972091675,
          -0.6077260375022888,
          -0.602790355682373,
          -0.5874661803245544,
          -0.5660958290100098,
          -0.5570529103279114,
          -0.5356689691543579,
          -0.5341207981109619,
          -0.5197786688804626,
          -0.51395183801651,
          -0.4932730793952942,
          -0.4918248951435089,
          -0.48609060049057007,
          -0.4538843333721161,
          -0.44836264848709106,
          -0.42275846004486084,
          -0.387689471244812,
          -0.3801714777946472,
          -0.38014063239097595,
          -0.34454870223999023,
          -0.344493567943573,
          -0.33928918838500977,
          -0.3251858949661255,
          -0.31658294796943665,
          -0.3169987201690674,
          -0.3177829086780548,
          -0.3374531865119934,
          -0.3473867177963257,
          -0.3565114736557007,
          -0.38678428530693054,
          -0.38834768533706665
         ]
        },
        {
         "mode": "lines",
         "name": "predicted cos",
         "type": "scatter",
         "x": [
          0.05419015884399414,
          0.1125180721282959,
          0.1236414909362793,
          0.2531290054321289,
          0.35174012184143066,
          0.40359020233154297,
          0.4259967803955078,
          0.5789792537689209,
          0.6109535694122314,
          0.6280624866485596,
          0.6493806838989258,
          0.6567764282226562,
          0.7793724536895752,
          0.8372926712036133,
          0.9216880798339844,
          1.0424327850341797,
          1.1303997039794922,
          1.1391639709472656,
          1.4280319213867188,
          1.429281234741211,
          1.4372014999389648,
          1.5601050853729248,
          1.7625796794891357,
          1.791931390762329,
          1.8393754959106445,
          1.893080472946167,
          2.051074504852295,
          2.077493667602539,
          2.1821415424346924,
          2.2497951984405518,
          2.4012815952301025,
          2.4279189109802246,
          2.4490725994110107,
          2.7728521823883057,
          2.8233659267425537,
          2.8310275077819824,
          2.9966700077056885,
          3.1173229217529297,
          3.2304179668426514,
          3.2502949237823486,
          3.3638429641723633,
          3.400278091430664,
          3.447096347808838,
          3.7294089794158936,
          3.8413965702056885,
          3.9636623859405518,
          3.9918196201324463,
          4.02255916595459,
          4.077669143676758,
          4.127013683319092,
          4.18168306350708,
          4.182677268981934,
          4.3170166015625,
          4.319377899169922,
          4.321985244750977,
          4.408236503601074,
          4.412640571594238,
          4.428554534912109,
          4.772029876708984,
          4.809684753417969,
          4.839982032775879,
          4.931053161621094,
          4.983564376831055,
          5.047626495361328,
          5.109951496124268,
          5.189163684844971,
          5.217010974884033,
          5.268058776855469,
          5.300459861755371,
          5.307989120483398,
          5.3647637367248535,
          5.422545433044434,
          5.546731948852539,
          5.5495381355285645,
          5.579812526702881,
          5.624164581298828,
          5.651079177856445,
          5.703710556030273,
          5.770215034484863,
          5.788776874542236,
          5.9270405769348145,
          6.012168884277344,
          6.038631439208984,
          6.219215393066406,
          6.226258277893066,
          6.255592346191406,
          6.320483684539795,
          6.347146034240723,
          6.5754804611206055,
          6.6069769859313965,
          6.619224548339844,
          6.637022495269775,
          6.680572032928467,
          6.846381187438965,
          7.112948894500732,
          7.117610931396484,
          7.136828899383545,
          7.202857971191406,
          7.320710182189941,
          7.351667881011963,
          7.362123489379883,
          7.4187421798706055,
          7.49078369140625,
          7.533746719360352,
          7.546184062957764,
          7.660447120666504,
          7.813444137573242,
          7.861959934234619,
          8.103226661682129,
          8.129968643188477,
          8.196555137634277,
          8.236095428466797,
          8.479394912719727,
          8.53318977355957,
          8.604202270507812,
          8.703125,
          8.791242599487305,
          8.88180923461914,
          8.892827987670898,
          8.984185218811035,
          9.060527801513672,
          9.156368255615234,
          9.225221633911133,
          9.271611213684082,
          9.420269966125488,
          9.518806457519531,
          9.538642883300781,
          9.573238372802734,
          9.620232582092285,
          9.62079906463623,
          9.714925765991211,
          9.816423416137695,
          9.85994815826416,
          9.888132095336914,
          9.972131729125977,
          10.036693572998047,
          10.342917442321777,
          10.52212905883789,
          10.531023025512695,
          10.762534141540527,
          10.769038200378418,
          10.801753044128418,
          10.804486274719238,
          10.807525634765625,
          10.833135604858398,
          10.863201141357422,
          10.864500999450684,
          10.890268325805664,
          10.976518630981445,
          11.070329666137695,
          11.276226997375488,
          11.326427459716797,
          11.608480453491211,
          11.814403533935547,
          11.91250228881836,
          11.981409072875977,
          12.03754997253418,
          12.12066650390625,
          12.283912658691406,
          12.382028579711914,
          12.446008682250977,
          12.609986305236816,
          12.956313133239746,
          12.96816635131836,
          12.973258972167969,
          13.108844757080078,
          13.17110538482666,
          13.195728302001953,
          13.281623840332031,
          13.546490669250488,
          13.644243240356445,
          13.722970962524414,
          13.760653495788574,
          13.802136421203613,
          13.855091094970703,
          13.885422706604004,
          14.345599174499512,
          14.363736152648926,
          14.380921363830566,
          14.407697677612305,
          14.551339149475098,
          14.935774803161621,
          14.94933032989502,
          15.339956283569336,
          15.375328063964844,
          15.543631553649902,
          15.57186508178711,
          15.733346939086914,
          15.886402130126953,
          16.177093505859375,
          16.2100772857666,
          16.275585174560547,
          16.330322265625,
          16.370996475219727,
          16.49204444885254,
          16.49207878112793,
          16.590177536010742,
          16.648160934448242,
          16.65057373046875,
          16.655004501342773,
          16.70058822631836,
          16.737407684326172,
          16.744678497314453,
          16.82147789001465,
          16.92488670349121,
          16.92962074279785,
          17.122907638549805,
          17.160383224487305,
          17.170480728149414,
          17.197452545166016,
          17.21332359313965,
          17.355838775634766,
          17.433372497558594,
          17.491580963134766,
          17.50076675415039,
          17.700450897216797,
          17.72235870361328,
          17.741403579711914,
          17.77520751953125,
          17.777099609375,
          17.838621139526367,
          17.854236602783203,
          17.902719497680664,
          17.9703311920166,
          17.99894142150879,
          18.085914611816406,
          18.092233657836914,
          18.150772094726562,
          18.1745548248291,
          18.258956909179688,
          18.264867782592773,
          18.288272857666016,
          18.41972541809082,
          18.442262649536133,
          18.546768188476562,
          18.689905166625977,
          18.720590591430664,
          18.72071647644043,
          18.86598777770996,
          18.866212844848633,
          18.887454986572266,
          18.945018768310547,
          19.06156349182129,
          19.066822052001953,
          19.076740264892578,
          19.32552146911621,
          19.451156616210938,
          19.56656265258789,
          19.949440002441406,
          19.969213485717773
         ],
         "y": [
          0.9795703887939453,
          0.9762580990791321,
          0.9756264090538025,
          0.9682732224464417,
          0.9626734256744385,
          0.959729015827179,
          0.9584566354751587,
          0.9497691988945007,
          0.947953462600708,
          0.9469819068908691,
          0.945771336555481,
          0.9453513622283936,
          0.9383894801139832,
          0.9351003766059875,
          0.9303077459335327,
          0.9209882616996765,
          0.9108873605728149,
          0.9098809361457825,
          0.8767111301422119,
          0.8765677213668823,
          0.8756582736968994,
          0.8615456819534302,
          0.8382961750030518,
          0.8349257707595825,
          0.8294779062271118,
          0.8233111500740051,
          0.799526572227478,
          0.7935741543769836,
          0.7699964642524719,
          0.7547537088394165,
          0.7206230163574219,
          0.7146215438842773,
          0.7098554372787476,
          0.6369062662124634,
          0.6255252361297607,
          0.6237990260124207,
          0.5864789485931396,
          0.5604729652404785,
          0.5361273884773254,
          0.5318485498428345,
          0.5074054002761841,
          0.49956220388412476,
          0.4894837737083435,
          0.42871129512786865,
          0.40460413694381714,
          0.37828439474105835,
          0.3722230792045593,
          0.3621305227279663,
          0.34177717566490173,
          0.3235531449317932,
          0.30336251854896545,
          0.30299535393714905,
          0.2533808648586273,
          0.2525087594985962,
          0.25154581665992737,
          0.21969132125377655,
          0.2180647999048233,
          0.21218743920326233,
          0.08533437550067902,
          0.0714275911450386,
          0.06023813411593437,
          0.026603544130921364,
          0.007209988310933113,
          -0.014201827347278595,
          -0.03427838534116745,
          -0.05979476496577263,
          -0.06876512616872787,
          -0.08520899713039398,
          -0.09564625471830368,
          -0.0980716273188591,
          -0.11636026203632355,
          -0.13497330248355865,
          -0.1749771237373352,
          -0.1758810579776764,
          -0.18563325703144073,
          -0.19992025196552277,
          -0.20859016478061676,
          -0.22554415464401245,
          -0.24696703255176544,
          -0.25294631719589233,
          -0.29748475551605225,
          -0.3250599503517151,
          -0.3339170813560486,
          -0.39435938000679016,
          -0.3967166543006897,
          -0.40653491020202637,
          -0.4282543659210205,
          -0.437178373336792,
          -0.5136029720306396,
          -0.5241450071334839,
          -0.5282443165779114,
          -0.5342013835906982,
          -0.5487775802612305,
          -0.6042746901512146,
          -0.676036536693573,
          -0.6768763661384583,
          -0.6803379654884338,
          -0.6922314167022705,
          -0.7134596109390259,
          -0.7190358638763428,
          -0.7209192514419556,
          -0.7311177253723145,
          -0.7440941333770752,
          -0.751832902431488,
          -0.7540732026100159,
          -0.7746548652648926,
          -0.8022134900093079,
          -0.8109524250030518,
          -0.8539961576461792,
          -0.8587056994438171,
          -0.8704322576522827,
          -0.8773956894874573,
          -0.9202432036399841,
          -0.9297170042991638,
          -0.942223072052002,
          -0.9596443176269531,
          -0.9751627445220947,
          -0.9911124110221863,
          -0.9930529594421387,
          -1.0091418027877808,
          -1.0088809728622437,
          -1.0040580034255981,
          -1.0005930662155151,
          -0.9982585906982422,
          -0.9907776117324829,
          -0.9858189225196838,
          -0.9848207235336304,
          -0.983079731464386,
          -0.9807147979736328,
          -0.9806863069534302,
          -0.9759495258331299,
          -0.9708418250083923,
          -0.968651533126831,
          -0.9672332406044006,
          -0.9630060195922852,
          -0.963329553604126,
          -0.9777331352233887,
          -0.9861626029014587,
          -0.9865809679031372,
          -0.9974703192710876,
          -0.9977762699127197,
          -0.9993150234222412,
          -0.9994435906410217,
          -0.9995865225791931,
          -1.0007911920547485,
          -1.0022053718566895,
          -1.0022664070129395,
          -1.0034784078598022,
          -1.0075353384017944,
          -0.9990143775939941,
          -0.9708348512649536,
          -0.9639643430709839,
          -0.9253619909286499,
          -0.8971788883209229,
          -0.8837529420852661,
          -0.874322235584259,
          -0.8610839247703552,
          -0.8374130129814148,
          -0.7909219264984131,
          -0.76297926902771,
          -0.7447583675384521,
          -0.6980588436126709,
          -0.5994278788566589,
          -0.5960521697998047,
          -0.5946018099784851,
          -0.5616351366043091,
          -0.5471339821815491,
          -0.5413990616798401,
          -0.5213931202888489,
          -0.45970281958580017,
          -0.4369352161884308,
          -0.4185987114906311,
          -0.4098220467567444,
          -0.4001602232456207,
          -0.387826532125473,
          -0.380761981010437,
          -0.18310552835464478,
          -0.1741330325603485,
          -0.16563139855861664,
          -0.15238498151302338,
          -0.08132459223270416,
          0.10885828733444214,
          0.11556429415941238,
          0.18029797077178955,
          0.1844252496957779,
          0.20406337082386017,
          0.2073577493429184,
          0.2261998951435089,
          0.24405880272388458,
          0.31550532579421997,
          0.3263435661792755,
          0.347868949174881,
          0.3658551573753357,
          0.3792203962802887,
          0.41899585723876953,
          0.41900715231895447,
          0.451241672039032,
          0.4702945649623871,
          0.47108739614486694,
          0.472543329000473,
          0.48752179741859436,
          0.49962037801742554,
          0.5020095109939575,
          0.5272452235221863,
          0.561224639415741,
          0.5627802014350891,
          0.6187542080879211,
          0.6287698745727539,
          0.6314684748649597,
          0.6386768817901611,
          0.6429185271263123,
          0.6810067892074585,
          0.7017282247543335,
          0.7172847986221313,
          0.7197397947311401,
          0.7731068134307861,
          0.7789618968963623,
          0.7840517163276672,
          0.793086051940918,
          0.7935917377471924,
          0.8100337982177734,
          0.814207136631012,
          0.8271645307540894,
          0.8452342748641968,
          0.852880597114563,
          0.8600097894668579,
          0.8605133295059204,
          0.865178108215332,
          0.8670732975006104,
          0.8737990260124207,
          0.8742700815200806,
          0.8761351108551025,
          0.8866102695465088,
          0.8884062170982361,
          0.8967339992523193,
          0.9081401824951172,
          0.9105854630470276,
          0.9105954766273499,
          0.9221717715263367,
          0.9221896529197693,
          0.9238824844360352,
          0.9284695386886597,
          0.9386946558952332,
          0.939193844795227,
          0.9401353001594543,
          0.9637505412101746,
          0.9756762385368347,
          0.9866310358047485,
          1.0229750871658325,
          1.0248520374298096
         ]
        }
       ],
       "layout": {
        "template": {
         "data": {
          "bar": [
           {
            "error_x": {
             "color": "#2a3f5f"
            },
            "error_y": {
             "color": "#2a3f5f"
            },
            "marker": {
             "line": {
              "color": "#E5ECF6",
              "width": 0.5
             },
             "pattern": {
              "fillmode": "overlay",
              "size": 10,
              "solidity": 0.2
             }
            },
            "type": "bar"
           }
          ],
          "barpolar": [
           {
            "marker": {
             "line": {
              "color": "#E5ECF6",
              "width": 0.5
             },
             "pattern": {
              "fillmode": "overlay",
              "size": 10,
              "solidity": 0.2
             }
            },
            "type": "barpolar"
           }
          ],
          "carpet": [
           {
            "aaxis": {
             "endlinecolor": "#2a3f5f",
             "gridcolor": "white",
             "linecolor": "white",
             "minorgridcolor": "white",
             "startlinecolor": "#2a3f5f"
            },
            "baxis": {
             "endlinecolor": "#2a3f5f",
             "gridcolor": "white",
             "linecolor": "white",
             "minorgridcolor": "white",
             "startlinecolor": "#2a3f5f"
            },
            "type": "carpet"
           }
          ],
          "choropleth": [
           {
            "colorbar": {
             "outlinewidth": 0,
             "ticks": ""
            },
            "type": "choropleth"
           }
          ],
          "contour": [
           {
            "colorbar": {
             "outlinewidth": 0,
             "ticks": ""
            },
            "colorscale": [
             [
              0,
              "#0d0887"
             ],
             [
              0.1111111111111111,
              "#46039f"
             ],
             [
              0.2222222222222222,
              "#7201a8"
             ],
             [
              0.3333333333333333,
              "#9c179e"
             ],
             [
              0.4444444444444444,
              "#bd3786"
             ],
             [
              0.5555555555555556,
              "#d8576b"
             ],
             [
              0.6666666666666666,
              "#ed7953"
             ],
             [
              0.7777777777777778,
              "#fb9f3a"
             ],
             [
              0.8888888888888888,
              "#fdca26"
             ],
             [
              1,
              "#f0f921"
             ]
            ],
            "type": "contour"
           }
          ],
          "contourcarpet": [
           {
            "colorbar": {
             "outlinewidth": 0,
             "ticks": ""
            },
            "type": "contourcarpet"
           }
          ],
          "heatmap": [
           {
            "colorbar": {
             "outlinewidth": 0,
             "ticks": ""
            },
            "colorscale": [
             [
              0,
              "#0d0887"
             ],
             [
              0.1111111111111111,
              "#46039f"
             ],
             [
              0.2222222222222222,
              "#7201a8"
             ],
             [
              0.3333333333333333,
              "#9c179e"
             ],
             [
              0.4444444444444444,
              "#bd3786"
             ],
             [
              0.5555555555555556,
              "#d8576b"
             ],
             [
              0.6666666666666666,
              "#ed7953"
             ],
             [
              0.7777777777777778,
              "#fb9f3a"
             ],
             [
              0.8888888888888888,
              "#fdca26"
             ],
             [
              1,
              "#f0f921"
             ]
            ],
            "type": "heatmap"
           }
          ],
          "heatmapgl": [
           {
            "colorbar": {
             "outlinewidth": 0,
             "ticks": ""
            },
            "colorscale": [
             [
              0,
              "#0d0887"
             ],
             [
              0.1111111111111111,
              "#46039f"
             ],
             [
              0.2222222222222222,
              "#7201a8"
             ],
             [
              0.3333333333333333,
              "#9c179e"
             ],
             [
              0.4444444444444444,
              "#bd3786"
             ],
             [
              0.5555555555555556,
              "#d8576b"
             ],
             [
              0.6666666666666666,
              "#ed7953"
             ],
             [
              0.7777777777777778,
              "#fb9f3a"
             ],
             [
              0.8888888888888888,
              "#fdca26"
             ],
             [
              1,
              "#f0f921"
             ]
            ],
            "type": "heatmapgl"
           }
          ],
          "histogram": [
           {
            "marker": {
             "pattern": {
              "fillmode": "overlay",
              "size": 10,
              "solidity": 0.2
             }
            },
            "type": "histogram"
           }
          ],
          "histogram2d": [
           {
            "colorbar": {
             "outlinewidth": 0,
             "ticks": ""
            },
            "colorscale": [
             [
              0,
              "#0d0887"
             ],
             [
              0.1111111111111111,
              "#46039f"
             ],
             [
              0.2222222222222222,
              "#7201a8"
             ],
             [
              0.3333333333333333,
              "#9c179e"
             ],
             [
              0.4444444444444444,
              "#bd3786"
             ],
             [
              0.5555555555555556,
              "#d8576b"
             ],
             [
              0.6666666666666666,
              "#ed7953"
             ],
             [
              0.7777777777777778,
              "#fb9f3a"
             ],
             [
              0.8888888888888888,
              "#fdca26"
             ],
             [
              1,
              "#f0f921"
             ]
            ],
            "type": "histogram2d"
           }
          ],
          "histogram2dcontour": [
           {
            "colorbar": {
             "outlinewidth": 0,
             "ticks": ""
            },
            "colorscale": [
             [
              0,
              "#0d0887"
             ],
             [
              0.1111111111111111,
              "#46039f"
             ],
             [
              0.2222222222222222,
              "#7201a8"
             ],
             [
              0.3333333333333333,
              "#9c179e"
             ],
             [
              0.4444444444444444,
              "#bd3786"
             ],
             [
              0.5555555555555556,
              "#d8576b"
             ],
             [
              0.6666666666666666,
              "#ed7953"
             ],
             [
              0.7777777777777778,
              "#fb9f3a"
             ],
             [
              0.8888888888888888,
              "#fdca26"
             ],
             [
              1,
              "#f0f921"
             ]
            ],
            "type": "histogram2dcontour"
           }
          ],
          "mesh3d": [
           {
            "colorbar": {
             "outlinewidth": 0,
             "ticks": ""
            },
            "type": "mesh3d"
           }
          ],
          "parcoords": [
           {
            "line": {
             "colorbar": {
              "outlinewidth": 0,
              "ticks": ""
             }
            },
            "type": "parcoords"
           }
          ],
          "pie": [
           {
            "automargin": true,
            "type": "pie"
           }
          ],
          "scatter": [
           {
            "fillpattern": {
             "fillmode": "overlay",
             "size": 10,
             "solidity": 0.2
            },
            "type": "scatter"
           }
          ],
          "scatter3d": [
           {
            "line": {
             "colorbar": {
              "outlinewidth": 0,
              "ticks": ""
             }
            },
            "marker": {
             "colorbar": {
              "outlinewidth": 0,
              "ticks": ""
             }
            },
            "type": "scatter3d"
           }
          ],
          "scattercarpet": [
           {
            "marker": {
             "colorbar": {
              "outlinewidth": 0,
              "ticks": ""
             }
            },
            "type": "scattercarpet"
           }
          ],
          "scattergeo": [
           {
            "marker": {
             "colorbar": {
              "outlinewidth": 0,
              "ticks": ""
             }
            },
            "type": "scattergeo"
           }
          ],
          "scattergl": [
           {
            "marker": {
             "colorbar": {
              "outlinewidth": 0,
              "ticks": ""
             }
            },
            "type": "scattergl"
           }
          ],
          "scattermapbox": [
           {
            "marker": {
             "colorbar": {
              "outlinewidth": 0,
              "ticks": ""
             }
            },
            "type": "scattermapbox"
           }
          ],
          "scatterpolar": [
           {
            "marker": {
             "colorbar": {
              "outlinewidth": 0,
              "ticks": ""
             }
            },
            "type": "scatterpolar"
           }
          ],
          "scatterpolargl": [
           {
            "marker": {
             "colorbar": {
              "outlinewidth": 0,
              "ticks": ""
             }
            },
            "type": "scatterpolargl"
           }
          ],
          "scatterternary": [
           {
            "marker": {
             "colorbar": {
              "outlinewidth": 0,
              "ticks": ""
             }
            },
            "type": "scatterternary"
           }
          ],
          "surface": [
           {
            "colorbar": {
             "outlinewidth": 0,
             "ticks": ""
            },
            "colorscale": [
             [
              0,
              "#0d0887"
             ],
             [
              0.1111111111111111,
              "#46039f"
             ],
             [
              0.2222222222222222,
              "#7201a8"
             ],
             [
              0.3333333333333333,
              "#9c179e"
             ],
             [
              0.4444444444444444,
              "#bd3786"
             ],
             [
              0.5555555555555556,
              "#d8576b"
             ],
             [
              0.6666666666666666,
              "#ed7953"
             ],
             [
              0.7777777777777778,
              "#fb9f3a"
             ],
             [
              0.8888888888888888,
              "#fdca26"
             ],
             [
              1,
              "#f0f921"
             ]
            ],
            "type": "surface"
           }
          ],
          "table": [
           {
            "cells": {
             "fill": {
              "color": "#EBF0F8"
             },
             "line": {
              "color": "white"
             }
            },
            "header": {
             "fill": {
              "color": "#C8D4E3"
             },
             "line": {
              "color": "white"
             }
            },
            "type": "table"
           }
          ]
         },
         "layout": {
          "annotationdefaults": {
           "arrowcolor": "#2a3f5f",
           "arrowhead": 0,
           "arrowwidth": 1
          },
          "autotypenumbers": "strict",
          "coloraxis": {
           "colorbar": {
            "outlinewidth": 0,
            "ticks": ""
           }
          },
          "colorscale": {
           "diverging": [
            [
             0,
             "#8e0152"
            ],
            [
             0.1,
             "#c51b7d"
            ],
            [
             0.2,
             "#de77ae"
            ],
            [
             0.3,
             "#f1b6da"
            ],
            [
             0.4,
             "#fde0ef"
            ],
            [
             0.5,
             "#f7f7f7"
            ],
            [
             0.6,
             "#e6f5d0"
            ],
            [
             0.7,
             "#b8e186"
            ],
            [
             0.8,
             "#7fbc41"
            ],
            [
             0.9,
             "#4d9221"
            ],
            [
             1,
             "#276419"
            ]
           ],
           "sequential": [
            [
             0,
             "#0d0887"
            ],
            [
             0.1111111111111111,
             "#46039f"
            ],
            [
             0.2222222222222222,
             "#7201a8"
            ],
            [
             0.3333333333333333,
             "#9c179e"
            ],
            [
             0.4444444444444444,
             "#bd3786"
            ],
            [
             0.5555555555555556,
             "#d8576b"
            ],
            [
             0.6666666666666666,
             "#ed7953"
            ],
            [
             0.7777777777777778,
             "#fb9f3a"
            ],
            [
             0.8888888888888888,
             "#fdca26"
            ],
            [
             1,
             "#f0f921"
            ]
           ],
           "sequentialminus": [
            [
             0,
             "#0d0887"
            ],
            [
             0.1111111111111111,
             "#46039f"
            ],
            [
             0.2222222222222222,
             "#7201a8"
            ],
            [
             0.3333333333333333,
             "#9c179e"
            ],
            [
             0.4444444444444444,
             "#bd3786"
            ],
            [
             0.5555555555555556,
             "#d8576b"
            ],
            [
             0.6666666666666666,
             "#ed7953"
            ],
            [
             0.7777777777777778,
             "#fb9f3a"
            ],
            [
             0.8888888888888888,
             "#fdca26"
            ],
            [
             1,
             "#f0f921"
            ]
           ]
          },
          "colorway": [
           "#636efa",
           "#EF553B",
           "#00cc96",
           "#ab63fa",
           "#FFA15A",
           "#19d3f3",
           "#FF6692",
           "#B6E880",
           "#FF97FF",
           "#FECB52"
          ],
          "font": {
           "color": "#2a3f5f"
          },
          "geo": {
           "bgcolor": "white",
           "lakecolor": "white",
           "landcolor": "#E5ECF6",
           "showlakes": true,
           "showland": true,
           "subunitcolor": "white"
          },
          "hoverlabel": {
           "align": "left"
          },
          "hovermode": "closest",
          "mapbox": {
           "style": "light"
          },
          "paper_bgcolor": "white",
          "plot_bgcolor": "#E5ECF6",
          "polar": {
           "angularaxis": {
            "gridcolor": "white",
            "linecolor": "white",
            "ticks": ""
           },
           "bgcolor": "#E5ECF6",
           "radialaxis": {
            "gridcolor": "white",
            "linecolor": "white",
            "ticks": ""
           }
          },
          "scene": {
           "xaxis": {
            "backgroundcolor": "#E5ECF6",
            "gridcolor": "white",
            "gridwidth": 2,
            "linecolor": "white",
            "showbackground": true,
            "ticks": "",
            "zerolinecolor": "white"
           },
           "yaxis": {
            "backgroundcolor": "#E5ECF6",
            "gridcolor": "white",
            "gridwidth": 2,
            "linecolor": "white",
            "showbackground": true,
            "ticks": "",
            "zerolinecolor": "white"
           },
           "zaxis": {
            "backgroundcolor": "#E5ECF6",
            "gridcolor": "white",
            "gridwidth": 2,
            "linecolor": "white",
            "showbackground": true,
            "ticks": "",
            "zerolinecolor": "white"
           }
          },
          "shapedefaults": {
           "line": {
            "color": "#2a3f5f"
           }
          },
          "ternary": {
           "aaxis": {
            "gridcolor": "white",
            "linecolor": "white",
            "ticks": ""
           },
           "baxis": {
            "gridcolor": "white",
            "linecolor": "white",
            "ticks": ""
           },
           "bgcolor": "#E5ECF6",
           "caxis": {
            "gridcolor": "white",
            "linecolor": "white",
            "ticks": ""
           }
          },
          "title": {
           "x": 0.05
          },
          "xaxis": {
           "automargin": true,
           "gridcolor": "white",
           "linecolor": "white",
           "ticks": "",
           "title": {
            "standoff": 15
           },
           "zerolinecolor": "white",
           "zerolinewidth": 2
          },
          "yaxis": {
           "automargin": true,
           "gridcolor": "white",
           "linecolor": "white",
           "ticks": "",
           "title": {
            "standoff": 15
           },
           "zerolinecolor": "white",
           "zerolinewidth": 2
          }
         }
        }
       }
      }
     },
     "metadata": {},
     "output_type": "display_data"
    }
   ],
   "source": [
    "x_sorted = torch.sort(x_samples).values\n",
    "y_pred = model(x_sorted).detach().numpy()\n",
    "fig = plotly.graph_objects.Figure()\n",
    "fig.add_scatter(x=x_samples, y=y_samples[:, 0], mode='markers', name='sin')\n",
    "fig.add_scatter(x=x_samples, y=y_samples[:, 1], mode='markers', name='cos')\n",
    "fig.add_scatter(x=x_sorted, y=y_pred[:, 0], mode='lines', name='predicted sin')\n",
    "fig.add_scatter(x=x_sorted, y=y_pred[:, 1], mode='lines', name='predicted cos')\n",
    "fig.show()\n"
   ]
  },
  {
   "cell_type": "markdown",
   "metadata": {},
   "source": [
    "## Stochastic Gradient Descent\n",
    "\n",
    "**Stochastic gradient descent** is an approximate gradient descent procedure, to cope with the very large data sets typically thrown at supervised problems. It is typically impossible to calculate the *exact* gradient, which requires looping over all the examples, which can run in the millions. An easy approximation scheme is to *randomly sample* a small subset of the examples, and calculate the gradient of the weights using only those examples. The upside is that this is much faster, but the downside is that this is only approximate. Hence, if we adjust weights with this approximate gradient, we might or might not make progress on the task. This procedure is called stochastic gradient descent, and it works amazingly well in practice.\n",
    "\n",
    "The `DataLoader` class in PyTorch makes implementing SGD very easy: it can wrap any `Dataset` instance, and then retrieves training samples one \"mini-batch\" at a time. The code below uses a mini-batch size of 25, but feel free to experiment with different values for both this parameter and the learning rate to get a feel for what happens. Note that by convention we refer to one execution of the inner loop below, over a mini-batch, as an \"iteration\". One full cycle through the dataset by randomly selecting mini-batches is referred to as an \"epoch\"."
   ]
  },
  {
   "cell_type": "code",
   "execution_count": null,
   "metadata": {},
   "outputs": [],
   "source": [
    "def train_sgd(model, dataset, loss_fn, callback=None, learning_rate=0.5, num_epochs=31, batch_size=25):\n",
    "    # Initialize optimizer\n",
    "    optimizer = optim.SGD(model.parameters(), lr=learning_rate)\n",
    "\n",
    "    # Create DataLoader for batch processing\n",
    "    data_loader = DataLoader(dataset, batch_size=batch_size, shuffle=True)\n",
    "\n",
    "    # Loop over the dataset multiple times (each loop is an epoch)\n",
    "    for epoch in range(num_epochs):\n",
    "        for x_batch, y_batch in data_loader:\n",
    "            optimizer.zero_grad()\n",
    "            output = model(x_batch)\n",
    "            loss = loss_fn(output, y_batch)\n",
    "            loss.backward()\n",
    "            optimizer.step()\n",
    "\n",
    "        if callback is not None:\n",
    "            callback(epoch, model)"
   ]
  },
  {
   "cell_type": "code",
   "execution_count": null,
   "metadata": {},
   "outputs": [
    {
     "data": {
      "application/vnd.plotly.v1+json": {
       "config": {
        "plotlyServerURL": "https://plot.ly"
       },
       "data": [
        {
         "hovertemplate": "Epoch=%{x}<br>Loss=%{y}<extra></extra>",
         "legendgroup": "",
         "line": {
          "color": "#636efa",
          "dash": "solid"
         },
         "marker": {
          "symbol": "circle"
         },
         "mode": "lines",
         "name": "",
         "orientation": "v",
         "showlegend": false,
         "type": "scatter",
         "x": [
          0,
          1,
          2,
          3,
          4,
          5,
          6,
          7,
          8,
          9,
          10,
          11,
          12,
          13,
          14,
          15,
          16,
          17,
          18,
          19,
          20,
          21,
          22,
          23,
          24,
          25,
          26,
          27,
          28,
          29,
          30
         ],
         "xaxis": "x",
         "y": [
          0.758269190788269,
          0.5183953642845154,
          0.3651474118232727,
          0.2640846371650696,
          0.1960136890411377,
          0.1489124596118927,
          0.11552945524454117,
          0.09134439378976822,
          0.07355104386806488,
          0.060263652354478836,
          0.05018776282668114,
          0.042454950511455536,
          0.0364401713013649,
          0.03171492740511894,
          0.02796570397913456,
          0.024950340390205383,
          0.022526895627379417,
          0.02053920365869999,
          0.018900441005825996,
          0.017542602494359016,
          0.016409650444984436,
          0.015455760061740875,
          0.014648646116256714,
          0.0139620341360569,
          0.013375011272728443,
          0.01286938413977623,
          0.012433056719601154,
          0.012055646628141403,
          0.011725264601409435,
          0.011437010951340199,
          0.011184407398104668
         ],
         "yaxis": "y"
        }
       ],
       "layout": {
        "legend": {
         "tracegroupgap": 0
        },
        "margin": {
         "t": 60
        },
        "template": {
         "data": {
          "bar": [
           {
            "error_x": {
             "color": "#2a3f5f"
            },
            "error_y": {
             "color": "#2a3f5f"
            },
            "marker": {
             "line": {
              "color": "#E5ECF6",
              "width": 0.5
             },
             "pattern": {
              "fillmode": "overlay",
              "size": 10,
              "solidity": 0.2
             }
            },
            "type": "bar"
           }
          ],
          "barpolar": [
           {
            "marker": {
             "line": {
              "color": "#E5ECF6",
              "width": 0.5
             },
             "pattern": {
              "fillmode": "overlay",
              "size": 10,
              "solidity": 0.2
             }
            },
            "type": "barpolar"
           }
          ],
          "carpet": [
           {
            "aaxis": {
             "endlinecolor": "#2a3f5f",
             "gridcolor": "white",
             "linecolor": "white",
             "minorgridcolor": "white",
             "startlinecolor": "#2a3f5f"
            },
            "baxis": {
             "endlinecolor": "#2a3f5f",
             "gridcolor": "white",
             "linecolor": "white",
             "minorgridcolor": "white",
             "startlinecolor": "#2a3f5f"
            },
            "type": "carpet"
           }
          ],
          "choropleth": [
           {
            "colorbar": {
             "outlinewidth": 0,
             "ticks": ""
            },
            "type": "choropleth"
           }
          ],
          "contour": [
           {
            "colorbar": {
             "outlinewidth": 0,
             "ticks": ""
            },
            "colorscale": [
             [
              0,
              "#0d0887"
             ],
             [
              0.1111111111111111,
              "#46039f"
             ],
             [
              0.2222222222222222,
              "#7201a8"
             ],
             [
              0.3333333333333333,
              "#9c179e"
             ],
             [
              0.4444444444444444,
              "#bd3786"
             ],
             [
              0.5555555555555556,
              "#d8576b"
             ],
             [
              0.6666666666666666,
              "#ed7953"
             ],
             [
              0.7777777777777778,
              "#fb9f3a"
             ],
             [
              0.8888888888888888,
              "#fdca26"
             ],
             [
              1,
              "#f0f921"
             ]
            ],
            "type": "contour"
           }
          ],
          "contourcarpet": [
           {
            "colorbar": {
             "outlinewidth": 0,
             "ticks": ""
            },
            "type": "contourcarpet"
           }
          ],
          "heatmap": [
           {
            "colorbar": {
             "outlinewidth": 0,
             "ticks": ""
            },
            "colorscale": [
             [
              0,
              "#0d0887"
             ],
             [
              0.1111111111111111,
              "#46039f"
             ],
             [
              0.2222222222222222,
              "#7201a8"
             ],
             [
              0.3333333333333333,
              "#9c179e"
             ],
             [
              0.4444444444444444,
              "#bd3786"
             ],
             [
              0.5555555555555556,
              "#d8576b"
             ],
             [
              0.6666666666666666,
              "#ed7953"
             ],
             [
              0.7777777777777778,
              "#fb9f3a"
             ],
             [
              0.8888888888888888,
              "#fdca26"
             ],
             [
              1,
              "#f0f921"
             ]
            ],
            "type": "heatmap"
           }
          ],
          "heatmapgl": [
           {
            "colorbar": {
             "outlinewidth": 0,
             "ticks": ""
            },
            "colorscale": [
             [
              0,
              "#0d0887"
             ],
             [
              0.1111111111111111,
              "#46039f"
             ],
             [
              0.2222222222222222,
              "#7201a8"
             ],
             [
              0.3333333333333333,
              "#9c179e"
             ],
             [
              0.4444444444444444,
              "#bd3786"
             ],
             [
              0.5555555555555556,
              "#d8576b"
             ],
             [
              0.6666666666666666,
              "#ed7953"
             ],
             [
              0.7777777777777778,
              "#fb9f3a"
             ],
             [
              0.8888888888888888,
              "#fdca26"
             ],
             [
              1,
              "#f0f921"
             ]
            ],
            "type": "heatmapgl"
           }
          ],
          "histogram": [
           {
            "marker": {
             "pattern": {
              "fillmode": "overlay",
              "size": 10,
              "solidity": 0.2
             }
            },
            "type": "histogram"
           }
          ],
          "histogram2d": [
           {
            "colorbar": {
             "outlinewidth": 0,
             "ticks": ""
            },
            "colorscale": [
             [
              0,
              "#0d0887"
             ],
             [
              0.1111111111111111,
              "#46039f"
             ],
             [
              0.2222222222222222,
              "#7201a8"
             ],
             [
              0.3333333333333333,
              "#9c179e"
             ],
             [
              0.4444444444444444,
              "#bd3786"
             ],
             [
              0.5555555555555556,
              "#d8576b"
             ],
             [
              0.6666666666666666,
              "#ed7953"
             ],
             [
              0.7777777777777778,
              "#fb9f3a"
             ],
             [
              0.8888888888888888,
              "#fdca26"
             ],
             [
              1,
              "#f0f921"
             ]
            ],
            "type": "histogram2d"
           }
          ],
          "histogram2dcontour": [
           {
            "colorbar": {
             "outlinewidth": 0,
             "ticks": ""
            },
            "colorscale": [
             [
              0,
              "#0d0887"
             ],
             [
              0.1111111111111111,
              "#46039f"
             ],
             [
              0.2222222222222222,
              "#7201a8"
             ],
             [
              0.3333333333333333,
              "#9c179e"
             ],
             [
              0.4444444444444444,
              "#bd3786"
             ],
             [
              0.5555555555555556,
              "#d8576b"
             ],
             [
              0.6666666666666666,
              "#ed7953"
             ],
             [
              0.7777777777777778,
              "#fb9f3a"
             ],
             [
              0.8888888888888888,
              "#fdca26"
             ],
             [
              1,
              "#f0f921"
             ]
            ],
            "type": "histogram2dcontour"
           }
          ],
          "mesh3d": [
           {
            "colorbar": {
             "outlinewidth": 0,
             "ticks": ""
            },
            "type": "mesh3d"
           }
          ],
          "parcoords": [
           {
            "line": {
             "colorbar": {
              "outlinewidth": 0,
              "ticks": ""
             }
            },
            "type": "parcoords"
           }
          ],
          "pie": [
           {
            "automargin": true,
            "type": "pie"
           }
          ],
          "scatter": [
           {
            "fillpattern": {
             "fillmode": "overlay",
             "size": 10,
             "solidity": 0.2
            },
            "type": "scatter"
           }
          ],
          "scatter3d": [
           {
            "line": {
             "colorbar": {
              "outlinewidth": 0,
              "ticks": ""
             }
            },
            "marker": {
             "colorbar": {
              "outlinewidth": 0,
              "ticks": ""
             }
            },
            "type": "scatter3d"
           }
          ],
          "scattercarpet": [
           {
            "marker": {
             "colorbar": {
              "outlinewidth": 0,
              "ticks": ""
             }
            },
            "type": "scattercarpet"
           }
          ],
          "scattergeo": [
           {
            "marker": {
             "colorbar": {
              "outlinewidth": 0,
              "ticks": ""
             }
            },
            "type": "scattergeo"
           }
          ],
          "scattergl": [
           {
            "marker": {
             "colorbar": {
              "outlinewidth": 0,
              "ticks": ""
             }
            },
            "type": "scattergl"
           }
          ],
          "scattermapbox": [
           {
            "marker": {
             "colorbar": {
              "outlinewidth": 0,
              "ticks": ""
             }
            },
            "type": "scattermapbox"
           }
          ],
          "scatterpolar": [
           {
            "marker": {
             "colorbar": {
              "outlinewidth": 0,
              "ticks": ""
             }
            },
            "type": "scatterpolar"
           }
          ],
          "scatterpolargl": [
           {
            "marker": {
             "colorbar": {
              "outlinewidth": 0,
              "ticks": ""
             }
            },
            "type": "scatterpolargl"
           }
          ],
          "scatterternary": [
           {
            "marker": {
             "colorbar": {
              "outlinewidth": 0,
              "ticks": ""
             }
            },
            "type": "scatterternary"
           }
          ],
          "surface": [
           {
            "colorbar": {
             "outlinewidth": 0,
             "ticks": ""
            },
            "colorscale": [
             [
              0,
              "#0d0887"
             ],
             [
              0.1111111111111111,
              "#46039f"
             ],
             [
              0.2222222222222222,
              "#7201a8"
             ],
             [
              0.3333333333333333,
              "#9c179e"
             ],
             [
              0.4444444444444444,
              "#bd3786"
             ],
             [
              0.5555555555555556,
              "#d8576b"
             ],
             [
              0.6666666666666666,
              "#ed7953"
             ],
             [
              0.7777777777777778,
              "#fb9f3a"
             ],
             [
              0.8888888888888888,
              "#fdca26"
             ],
             [
              1,
              "#f0f921"
             ]
            ],
            "type": "surface"
           }
          ],
          "table": [
           {
            "cells": {
             "fill": {
              "color": "#EBF0F8"
             },
             "line": {
              "color": "white"
             }
            },
            "header": {
             "fill": {
              "color": "#C8D4E3"
             },
             "line": {
              "color": "white"
             }
            },
            "type": "table"
           }
          ]
         },
         "layout": {
          "annotationdefaults": {
           "arrowcolor": "#2a3f5f",
           "arrowhead": 0,
           "arrowwidth": 1
          },
          "autotypenumbers": "strict",
          "coloraxis": {
           "colorbar": {
            "outlinewidth": 0,
            "ticks": ""
           }
          },
          "colorscale": {
           "diverging": [
            [
             0,
             "#8e0152"
            ],
            [
             0.1,
             "#c51b7d"
            ],
            [
             0.2,
             "#de77ae"
            ],
            [
             0.3,
             "#f1b6da"
            ],
            [
             0.4,
             "#fde0ef"
            ],
            [
             0.5,
             "#f7f7f7"
            ],
            [
             0.6,
             "#e6f5d0"
            ],
            [
             0.7,
             "#b8e186"
            ],
            [
             0.8,
             "#7fbc41"
            ],
            [
             0.9,
             "#4d9221"
            ],
            [
             1,
             "#276419"
            ]
           ],
           "sequential": [
            [
             0,
             "#0d0887"
            ],
            [
             0.1111111111111111,
             "#46039f"
            ],
            [
             0.2222222222222222,
             "#7201a8"
            ],
            [
             0.3333333333333333,
             "#9c179e"
            ],
            [
             0.4444444444444444,
             "#bd3786"
            ],
            [
             0.5555555555555556,
             "#d8576b"
            ],
            [
             0.6666666666666666,
             "#ed7953"
            ],
            [
             0.7777777777777778,
             "#fb9f3a"
            ],
            [
             0.8888888888888888,
             "#fdca26"
            ],
            [
             1,
             "#f0f921"
            ]
           ],
           "sequentialminus": [
            [
             0,
             "#0d0887"
            ],
            [
             0.1111111111111111,
             "#46039f"
            ],
            [
             0.2222222222222222,
             "#7201a8"
            ],
            [
             0.3333333333333333,
             "#9c179e"
            ],
            [
             0.4444444444444444,
             "#bd3786"
            ],
            [
             0.5555555555555556,
             "#d8576b"
            ],
            [
             0.6666666666666666,
             "#ed7953"
            ],
            [
             0.7777777777777778,
             "#fb9f3a"
            ],
            [
             0.8888888888888888,
             "#fdca26"
            ],
            [
             1,
             "#f0f921"
            ]
           ]
          },
          "colorway": [
           "#636efa",
           "#EF553B",
           "#00cc96",
           "#ab63fa",
           "#FFA15A",
           "#19d3f3",
           "#FF6692",
           "#B6E880",
           "#FF97FF",
           "#FECB52"
          ],
          "font": {
           "color": "#2a3f5f"
          },
          "geo": {
           "bgcolor": "white",
           "lakecolor": "white",
           "landcolor": "#E5ECF6",
           "showlakes": true,
           "showland": true,
           "subunitcolor": "white"
          },
          "hoverlabel": {
           "align": "left"
          },
          "hovermode": "closest",
          "mapbox": {
           "style": "light"
          },
          "paper_bgcolor": "white",
          "plot_bgcolor": "#E5ECF6",
          "polar": {
           "angularaxis": {
            "gridcolor": "white",
            "linecolor": "white",
            "ticks": ""
           },
           "bgcolor": "#E5ECF6",
           "radialaxis": {
            "gridcolor": "white",
            "linecolor": "white",
            "ticks": ""
           }
          },
          "scene": {
           "xaxis": {
            "backgroundcolor": "#E5ECF6",
            "gridcolor": "white",
            "gridwidth": 2,
            "linecolor": "white",
            "showbackground": true,
            "ticks": "",
            "zerolinecolor": "white"
           },
           "yaxis": {
            "backgroundcolor": "#E5ECF6",
            "gridcolor": "white",
            "gridwidth": 2,
            "linecolor": "white",
            "showbackground": true,
            "ticks": "",
            "zerolinecolor": "white"
           },
           "zaxis": {
            "backgroundcolor": "#E5ECF6",
            "gridcolor": "white",
            "gridwidth": 2,
            "linecolor": "white",
            "showbackground": true,
            "ticks": "",
            "zerolinecolor": "white"
           }
          },
          "shapedefaults": {
           "line": {
            "color": "#2a3f5f"
           }
          },
          "ternary": {
           "aaxis": {
            "gridcolor": "white",
            "linecolor": "white",
            "ticks": ""
           },
           "baxis": {
            "gridcolor": "white",
            "linecolor": "white",
            "ticks": ""
           },
           "bgcolor": "#E5ECF6",
           "caxis": {
            "gridcolor": "white",
            "linecolor": "white",
            "ticks": ""
           }
          },
          "title": {
           "x": 0.05
          },
          "xaxis": {
           "automargin": true,
           "gridcolor": "white",
           "linecolor": "white",
           "ticks": "",
           "title": {
            "standoff": 15
           },
           "zerolinecolor": "white",
           "zerolinewidth": 2
          },
          "yaxis": {
           "automargin": true,
           "gridcolor": "white",
           "linecolor": "white",
           "ticks": "",
           "title": {
            "standoff": 15
           },
           "zerolinecolor": "white",
           "zerolinewidth": 2
          }
         }
        },
        "xaxis": {
         "anchor": "y",
         "domain": [
          0,
          1
         ],
         "title": {
          "text": "Epoch"
         }
        },
        "yaxis": {
         "anchor": "x",
         "domain": [
          0,
          1
         ],
         "title": {
          "text": "Loss"
         }
        }
       }
      }
     },
     "metadata": {},
     "output_type": "display_data"
    }
   ],
   "source": [
    "# Initialize model\n",
    "model = LineGrid(n=n, d=2)  # d=2 as we are regressing both sin and cos\n",
    "\n",
    "# Initialize the built-in Mean-Squared Error loss function\n",
    "mse = nn.MSELoss()\n",
    "\n",
    "# Create a callback that saves loss to a dataframe\n",
    "loss_data = pd.DataFrame(columns=['Epoch', 'Loss'])\n",
    "def record_loss(epoch, model):\n",
    "    loss_data.loc[len(loss_data)] = [epoch, mse(model(x_samples), y_samples).item()]\n",
    "            \n",
    "# Run the training loop\n",
    "train_sgd(model, dataset, loss_fn=mse, callback=record_loss)\n",
    "px.line(loss_data, x='Epoch', y='Loss')"
   ]
  },
  {
   "cell_type": "markdown",
   "metadata": {},
   "source": [
    "Note that we converged *much* faster in this case: in just 30 iterations we reached the same low loss as with 300 iterations before. The answer is because with 250 training samples and mini-batches of size 25, each epoch adjusts the model's parameters 10 times. This effectively boosts the learning rate by a factor of 10. However, note that because each mini-batch looks at only one 10th of the dataset, each mini-batch's adjustment could *adversely* affect the performance on the other training samples."
   ]
  },
  {
   "cell_type": "markdown",
   "metadata": {},
   "source": [
    "## Validation and Testing\n",
    "\n",
    "In practice, validation and test datasets are used to evaluate the performance of a model. The validation dataset is used to tune the hyperparameters of a model, while the test dataset is used to evaluate the performance of the model on unseen data. "
   ]
  }
 ],
 "metadata": {
  "colab": {
   "collapsed_sections": [],
   "include_colab_link": true,
   "name": "S56_diffdrive_learning.ipynb",
   "provenance": []
  },
  "interpreter": {
   "hash": "c6e4e9f98eb68ad3b7c296f83d20e6de614cb42e90992a65aa266555a3137d0d"
  },
  "kernelspec": {
   "display_name": "Python 3.9.6 64-bit ('base': conda)",
   "name": "python3"
  },
  "language_info": {
   "codemirror_mode": {
    "name": "ipython",
    "version": 3
   },
   "file_extension": ".py",
   "mimetype": "text/x-python",
   "name": "python",
   "nbconvert_exporter": "python",
   "pygments_lexer": "ipython3",
   "version": "3.9.18"
  },
  "latex_metadata": {
   "affiliation": "Georgia Institute of Technology",
   "author": "Frank Dellaert and Seth Hutchinson",
   "title": "Introduction to Robotics"
  }
 },
 "nbformat": 4,
 "nbformat_minor": 2
}
